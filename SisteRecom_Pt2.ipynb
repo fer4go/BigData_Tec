{
 "cells": [
  {
   "cell_type": "code",
   "execution_count": 2,
   "metadata": {},
   "outputs": [],
   "source": [
    "import numpy as np\n",
    "import pandas as pd\n",
    "import sklearn \n",
    "import matplotlib.pyplot as plt\n",
    "import seaborn as sns \n",
    "\n",
    "from collections import Counter\n"
   ]
  },
  {
   "cell_type": "markdown",
   "metadata": {},
   "source": [
    "### Paso 2: Cargando los datos\n"
   ]
  },
  {
   "cell_type": "code",
   "execution_count": 3,
   "metadata": {},
   "outputs": [],
   "source": [
    "hotels = pd.read_csv(\"DataBases/hotels_info_eu.csv\")\n",
    "ratings = pd.read_csv(\"DataBases/reviews_eu_with_user_id.csv\")"
   ]
  },
  {
   "cell_type": "code",
   "execution_count": 4,
   "metadata": {},
   "outputs": [
    {
     "data": {
      "text/html": [
       "<div>\n",
       "<style scoped>\n",
       "    .dataframe tbody tr th:only-of-type {\n",
       "        vertical-align: middle;\n",
       "    }\n",
       "\n",
       "    .dataframe tbody tr th {\n",
       "        vertical-align: top;\n",
       "    }\n",
       "\n",
       "    .dataframe thead th {\n",
       "        text-align: right;\n",
       "    }\n",
       "</style>\n",
       "<table border=\"1\" class=\"dataframe\">\n",
       "  <thead>\n",
       "    <tr style=\"text-align: right;\">\n",
       "      <th></th>\n",
       "      <th>user_id</th>\n",
       "      <th>hotel_id</th>\n",
       "      <th>Hotel_Name</th>\n",
       "      <th>Hotel_Address</th>\n",
       "      <th>Reviewer_Nationality</th>\n",
       "      <th>Negative_Review</th>\n",
       "      <th>Positive_Review</th>\n",
       "      <th>Reviewer_Score</th>\n",
       "      <th>Review_Date</th>\n",
       "      <th>given_reviews</th>\n",
       "    </tr>\n",
       "  </thead>\n",
       "  <tbody>\n",
       "    <tr>\n",
       "      <th>0</th>\n",
       "      <td>1</td>\n",
       "      <td>831</td>\n",
       "      <td>H10 Itaca</td>\n",
       "      <td>Avenida Roma 22 30 Eixample 08015 Barcelona Spain</td>\n",
       "      <td>United Arab Emirates</td>\n",
       "      <td>No variety in the breakfast buffet as we can ...</td>\n",
       "      <td>The staff ate very friendly and the location ...</td>\n",
       "      <td>5.4</td>\n",
       "      <td>9/8/2015</td>\n",
       "      <td>3</td>\n",
       "    </tr>\n",
       "    <tr>\n",
       "      <th>1</th>\n",
       "      <td>2</td>\n",
       "      <td>913</td>\n",
       "      <td>Jaz Amsterdam</td>\n",
       "      <td>De Passage 90 Noord Holland Zuidoost 1101 AX A...</td>\n",
       "      <td>United Arab Emirates</td>\n",
       "      <td>nothing</td>\n",
       "      <td>bedroom decoration and facilities were great</td>\n",
       "      <td>9.6</td>\n",
       "      <td>6/1/2016</td>\n",
       "      <td>4</td>\n",
       "    </tr>\n",
       "    <tr>\n",
       "      <th>2</th>\n",
       "      <td>3</td>\n",
       "      <td>1384</td>\n",
       "      <td>Hotel Manin</td>\n",
       "      <td>Via Manin 7 Milan City Center 20121 Milan Italy</td>\n",
       "      <td>South Africa</td>\n",
       "      <td>At reception not all the staff were courteous</td>\n",
       "      <td>Location</td>\n",
       "      <td>7.1</td>\n",
       "      <td>10/14/2015</td>\n",
       "      <td>1</td>\n",
       "    </tr>\n",
       "    <tr>\n",
       "      <th>3</th>\n",
       "      <td>4</td>\n",
       "      <td>77</td>\n",
       "      <td>11 Cadogan Gardens</td>\n",
       "      <td>11 Cadogan Gardens Sloane Square Kensington an...</td>\n",
       "      <td>United States of America</td>\n",
       "      <td>No Negative</td>\n",
       "      <td>Small boutique hotel with friendly staff in a...</td>\n",
       "      <td>10.0</td>\n",
       "      <td>12/21/2016</td>\n",
       "      <td>4</td>\n",
       "    </tr>\n",
       "    <tr>\n",
       "      <th>4</th>\n",
       "      <td>5</td>\n",
       "      <td>15</td>\n",
       "      <td>Crowne Plaza London Kings Cross</td>\n",
       "      <td>1 Kings Cross Road Islington London WC1X 9HX U...</td>\n",
       "      <td>United Kingdom</td>\n",
       "      <td>Extra charge to use swimming pool</td>\n",
       "      <td>Lovely room good breakfast</td>\n",
       "      <td>7.9</td>\n",
       "      <td>3/27/2016</td>\n",
       "      <td>1</td>\n",
       "    </tr>\n",
       "  </tbody>\n",
       "</table>\n",
       "</div>"
      ],
      "text/plain": [
       "   user_id  hotel_id                       Hotel_Name  \\\n",
       "0        1       831                        H10 Itaca   \n",
       "1        2       913                    Jaz Amsterdam   \n",
       "2        3      1384                      Hotel Manin   \n",
       "3        4        77               11 Cadogan Gardens   \n",
       "4        5        15  Crowne Plaza London Kings Cross   \n",
       "\n",
       "                                       Hotel_Address  \\\n",
       "0  Avenida Roma 22 30 Eixample 08015 Barcelona Spain   \n",
       "1  De Passage 90 Noord Holland Zuidoost 1101 AX A...   \n",
       "2    Via Manin 7 Milan City Center 20121 Milan Italy   \n",
       "3  11 Cadogan Gardens Sloane Square Kensington an...   \n",
       "4  1 Kings Cross Road Islington London WC1X 9HX U...   \n",
       "\n",
       "         Reviewer_Nationality  \\\n",
       "0       United Arab Emirates    \n",
       "1       United Arab Emirates    \n",
       "2               South Africa    \n",
       "3   United States of America    \n",
       "4             United Kingdom    \n",
       "\n",
       "                                     Negative_Review  \\\n",
       "0   No variety in the breakfast buffet as we can ...   \n",
       "1                                            nothing   \n",
       "2     At reception not all the staff were courteous    \n",
       "3                                        No Negative   \n",
       "4                  Extra charge to use swimming pool   \n",
       "\n",
       "                                     Positive_Review  Reviewer_Score  \\\n",
       "0   The staff ate very friendly and the location ...             5.4   \n",
       "1       bedroom decoration and facilities were great             9.6   \n",
       "2                                           Location             7.1   \n",
       "3   Small boutique hotel with friendly staff in a...            10.0   \n",
       "4                         Lovely room good breakfast             7.9   \n",
       "\n",
       "  Review_Date  given_reviews  \n",
       "0    9/8/2015              3  \n",
       "1    6/1/2016              4  \n",
       "2  10/14/2015              1  \n",
       "3  12/21/2016              4  \n",
       "4   3/27/2016              1  "
      ]
     },
     "execution_count": 4,
     "metadata": {},
     "output_type": "execute_result"
    }
   ],
   "source": [
    "# Remove columns from the DataFrame\n",
    "ratings = ratings.drop(columns=['Unnamed: 0', 'temp_id'])\n",
    "ratings.head()"
   ]
  },
  {
   "cell_type": "code",
   "execution_count": 5,
   "metadata": {},
   "outputs": [
    {
     "data": {
      "text/html": [
       "<div>\n",
       "<style scoped>\n",
       "    .dataframe tbody tr th:only-of-type {\n",
       "        vertical-align: middle;\n",
       "    }\n",
       "\n",
       "    .dataframe tbody tr th {\n",
       "        vertical-align: top;\n",
       "    }\n",
       "\n",
       "    .dataframe thead th {\n",
       "        text-align: right;\n",
       "    }\n",
       "</style>\n",
       "<table border=\"1\" class=\"dataframe\">\n",
       "  <thead>\n",
       "    <tr style=\"text-align: right;\">\n",
       "      <th></th>\n",
       "      <th>hotel_id</th>\n",
       "      <th>hotel_country</th>\n",
       "      <th>Hotel_Name</th>\n",
       "      <th>Hotel_Address</th>\n",
       "    </tr>\n",
       "  </thead>\n",
       "  <tbody>\n",
       "    <tr>\n",
       "      <th>0</th>\n",
       "      <td>0</td>\n",
       "      <td>Netherlands</td>\n",
       "      <td>Hotel Arena</td>\n",
       "      <td>s Gravesandestraat 55 Oost 1092 AA Amsterdam ...</td>\n",
       "    </tr>\n",
       "    <tr>\n",
       "      <th>1</th>\n",
       "      <td>1</td>\n",
       "      <td>United Kingdom</td>\n",
       "      <td>K K Hotel George</td>\n",
       "      <td>1 15 Templeton Place Earl s Court Kensington a...</td>\n",
       "    </tr>\n",
       "    <tr>\n",
       "      <th>2</th>\n",
       "      <td>2</td>\n",
       "      <td>United Kingdom</td>\n",
       "      <td>Apex Temple Court Hotel</td>\n",
       "      <td>1 2 Serjeant s Inn Fleet Street City of London...</td>\n",
       "    </tr>\n",
       "    <tr>\n",
       "      <th>3</th>\n",
       "      <td>3</td>\n",
       "      <td>United Kingdom</td>\n",
       "      <td>The Park Grand London Paddington</td>\n",
       "      <td>1 3 Queens Garden Westminster Borough London W...</td>\n",
       "    </tr>\n",
       "    <tr>\n",
       "      <th>4</th>\n",
       "      <td>4</td>\n",
       "      <td>France</td>\n",
       "      <td>Monhotel Lounge SPA</td>\n",
       "      <td>1 3 Rue d Argentine 16th arr 75116 Paris France</td>\n",
       "    </tr>\n",
       "  </tbody>\n",
       "</table>\n",
       "</div>"
      ],
      "text/plain": [
       "   hotel_id   hotel_country                        Hotel_Name  \\\n",
       "0         0     Netherlands                       Hotel Arena   \n",
       "1         1  United Kingdom                  K K Hotel George   \n",
       "2         2  United Kingdom           Apex Temple Court Hotel   \n",
       "3         3  United Kingdom  The Park Grand London Paddington   \n",
       "4         4          France               Monhotel Lounge SPA   \n",
       "\n",
       "                                       Hotel_Address  \n",
       "0   s Gravesandestraat 55 Oost 1092 AA Amsterdam ...  \n",
       "1  1 15 Templeton Place Earl s Court Kensington a...  \n",
       "2  1 2 Serjeant s Inn Fleet Street City of London...  \n",
       "3  1 3 Queens Garden Westminster Borough London W...  \n",
       "4    1 3 Rue d Argentine 16th arr 75116 Paris France  "
      ]
     },
     "execution_count": 5,
     "metadata": {},
     "output_type": "execute_result"
    }
   ],
   "source": [
    "hotels = hotels.drop(columns=['Unnamed: 0'])\n",
    "hotels.head()"
   ]
  },
  {
   "cell_type": "markdown",
   "metadata": {},
   "source": [
    "### Paso 3: Limpieza y Exploracion de los Datos\n"
   ]
  },
  {
   "cell_type": "code",
   "execution_count": 6,
   "metadata": {},
   "outputs": [
    {
     "name": "stdout",
     "output_type": "stream",
     "text": [
      "Existen 6 países en el dataset.\n"
     ]
    },
    {
     "data": {
      "text/plain": [
       "Counter({'Netherlands': 105,\n",
       "         'United Kingdom': 400,\n",
       "         'France': 458,\n",
       "         'Spain': 211,\n",
       "         'Italy': 162,\n",
       "         'Austria': 158})"
      ]
     },
     "execution_count": 6,
     "metadata": {},
     "output_type": "execute_result"
    }
   ],
   "source": [
    "contador_paises = Counter(pais for pais in hotels['hotel_country'])\n",
    "\n",
    "print(f\"Existen {len(contador_paises)} países en el dataset.\")\n",
    "contador_paises"
   ]
  },
  {
   "cell_type": "code",
   "execution_count": 7,
   "metadata": {},
   "outputs": [
    {
     "name": "stdout",
     "output_type": "stream",
     "text": [
      "Top 3 de países por hoteles: \n",
      " [('France', 458), ('United Kingdom', 400), ('Spain', 211)]\n"
     ]
    }
   ],
   "source": [
    "numero = 3\n",
    "print(f\"Top {numero} de países por hoteles: \\n\", contador_paises.most_common(numero))"
   ]
  },
  {
   "cell_type": "code",
   "execution_count": 8,
   "metadata": {},
   "outputs": [
    {
     "name": "stdout",
     "output_type": "stream",
     "text": [
      "Existen 227 nacionalidades en el dataset.\n",
      "Top 10 de nacionalidades por usuario: \n",
      " [(' United Kingdom ', 245246), (' United States of America ', 35437), (' Australia ', 21686), (' Ireland ', 14827), (' United Arab Emirates ', 10235), (' Saudi Arabia ', 8951), (' Netherlands ', 8772), (' Switzerland ', 8678), (' Germany ', 7941), (' Canada ', 7894)]\n"
     ]
    }
   ],
   "source": [
    "contador_nacs = Counter(pais for pais in ratings['Reviewer_Nationality'])\n",
    "\n",
    "print(f\"Existen {len(contador_nacs)} nacionalidades en el dataset.\")\n",
    "numero = 10\n",
    "print(f\"Top {numero} de nacionalidades por usuario: \\n\", contador_nacs.most_common(numero))"
   ]
  },
  {
   "cell_type": "code",
   "execution_count": 9,
   "metadata": {},
   "outputs": [
    {
     "data": {
      "image/png": "[encoded data removed]",
      "text/plain": [
       "<Figure size 720x360 with 1 Axes>"
      ]
     },
     "metadata": {
      "needs_background": "light"
     },
     "output_type": "display_data"
    }
   ],
   "source": [
    "genres_counts_df = pd.DataFrame([contador_paises]).T.reset_index()\n",
    "genres_counts_df.columns = ['hotel_country', 'count']\n",
    "genres_counts_df = genres_counts_df.sort_values(by='count', ascending=False)\n",
    "\n",
    "plt.figure(figsize=(10, 5))\n",
    "sns.barplot(x='hotel_country', y='count', data=genres_counts_df, palette='rocket')\n",
    "plt.xticks(rotation=90)\n",
    "plt.show()"
   ]
  },
  {
   "cell_type": "markdown",
   "metadata": {},
   "source": [
    "#### Extrayendo el año de la fecha de las reseñas"
   ]
  },
  {
   "cell_type": "code",
   "execution_count": 10,
   "metadata": {},
   "outputs": [],
   "source": [
    "import re\n",
    "\n",
    "def extraer_anio_resena_hotel(fecha):\n",
    "    t = fecha.split('/')\n",
    "    year = None\n",
    "    month = None\n",
    "    if re.search(r'\\d+', t[-1]):\n",
    "        year = t[-1]\n",
    "        year = int(year)\n",
    "    return year\n",
    "\n",
    "def extraer_anio_mes_resena(fecha):\n",
    "    t = fecha.split('/')\n",
    "    year = None\n",
    "    month = None\n",
    "    if re.search(r'\\d+', t[-1]):\n",
    "        year = t[-1]\n",
    "        month = t[0]\n",
    "        if len(month) == 1:\n",
    "            month = '0'+month\n",
    "    return year+'.'+month\n",
    "\n",
    "def leer_pais_de_hotel(hotel_id):\n",
    "    return hotels['hotel_country'].iloc[hotel_id]"
   ]
  },
  {
   "cell_type": "code",
   "execution_count": 68,
   "metadata": {},
   "outputs": [
    {
     "name": "stdout",
     "output_type": "stream",
     "text": [
      "2017.08\n"
     ]
    }
   ],
   "source": [
    "ff = '8/3/2017'\n",
    "dd = extraer_anio_mes_resena(ff)\n",
    "print(dd)\n"
   ]
  },
  {
   "cell_type": "code",
   "execution_count": 14,
   "metadata": {},
   "outputs": [
    {
     "name": "stdout",
     "output_type": "stream",
     "text": [
      "2017\n",
      "United Kingdom\n"
     ]
    }
   ],
   "source": [
    "# prueba\n",
    "fecha = '8/3/2017'\n",
    "year = extraer_anio_resena_hotel(fecha)\n",
    "print(year)\n",
    "type(year)\n",
    "\n",
    "hotel = leer_pais_de_hotel(1)\n",
    "print(hotel)"
   ]
  },
  {
   "cell_type": "code",
   "execution_count": 11,
   "metadata": {},
   "outputs": [
    {
     "data": {
      "text/html": [
       "<div>\n",
       "<style scoped>\n",
       "    .dataframe tbody tr th:only-of-type {\n",
       "        vertical-align: middle;\n",
       "    }\n",
       "\n",
       "    .dataframe tbody tr th {\n",
       "        vertical-align: top;\n",
       "    }\n",
       "\n",
       "    .dataframe thead th {\n",
       "        text-align: right;\n",
       "    }\n",
       "</style>\n",
       "<table border=\"1\" class=\"dataframe\">\n",
       "  <thead>\n",
       "    <tr style=\"text-align: right;\">\n",
       "      <th></th>\n",
       "      <th>user_id</th>\n",
       "      <th>hotel_id</th>\n",
       "      <th>Hotel_Name</th>\n",
       "      <th>Hotel_Address</th>\n",
       "      <th>Reviewer_Nationality</th>\n",
       "      <th>Negative_Review</th>\n",
       "      <th>Positive_Review</th>\n",
       "      <th>Reviewer_Score</th>\n",
       "      <th>Review_Date</th>\n",
       "      <th>given_reviews</th>\n",
       "      <th>year</th>\n",
       "      <th>hotel_country</th>\n",
       "    </tr>\n",
       "  </thead>\n",
       "  <tbody>\n",
       "    <tr>\n",
       "      <th>0</th>\n",
       "      <td>1</td>\n",
       "      <td>831</td>\n",
       "      <td>H10 Itaca</td>\n",
       "      <td>Avenida Roma 22 30 Eixample 08015 Barcelona Spain</td>\n",
       "      <td>United Arab Emirates</td>\n",
       "      <td>No variety in the breakfast buffet as we can ...</td>\n",
       "      <td>The staff ate very friendly and the location ...</td>\n",
       "      <td>5.4</td>\n",
       "      <td>9/8/2015</td>\n",
       "      <td>3</td>\n",
       "      <td>2015.09</td>\n",
       "      <td>Spain</td>\n",
       "    </tr>\n",
       "    <tr>\n",
       "      <th>1</th>\n",
       "      <td>2</td>\n",
       "      <td>913</td>\n",
       "      <td>Jaz Amsterdam</td>\n",
       "      <td>De Passage 90 Noord Holland Zuidoost 1101 AX A...</td>\n",
       "      <td>United Arab Emirates</td>\n",
       "      <td>nothing</td>\n",
       "      <td>bedroom decoration and facilities were great</td>\n",
       "      <td>9.6</td>\n",
       "      <td>6/1/2016</td>\n",
       "      <td>4</td>\n",
       "      <td>2016.06</td>\n",
       "      <td>Netherlands</td>\n",
       "    </tr>\n",
       "    <tr>\n",
       "      <th>2</th>\n",
       "      <td>3</td>\n",
       "      <td>1384</td>\n",
       "      <td>Hotel Manin</td>\n",
       "      <td>Via Manin 7 Milan City Center 20121 Milan Italy</td>\n",
       "      <td>South Africa</td>\n",
       "      <td>At reception not all the staff were courteous</td>\n",
       "      <td>Location</td>\n",
       "      <td>7.1</td>\n",
       "      <td>10/14/2015</td>\n",
       "      <td>1</td>\n",
       "      <td>2015.10</td>\n",
       "      <td>Italy</td>\n",
       "    </tr>\n",
       "    <tr>\n",
       "      <th>3</th>\n",
       "      <td>4</td>\n",
       "      <td>77</td>\n",
       "      <td>11 Cadogan Gardens</td>\n",
       "      <td>11 Cadogan Gardens Sloane Square Kensington an...</td>\n",
       "      <td>United States of America</td>\n",
       "      <td>No Negative</td>\n",
       "      <td>Small boutique hotel with friendly staff in a...</td>\n",
       "      <td>10.0</td>\n",
       "      <td>12/21/2016</td>\n",
       "      <td>4</td>\n",
       "      <td>2016.12</td>\n",
       "      <td>United Kingdom</td>\n",
       "    </tr>\n",
       "    <tr>\n",
       "      <th>4</th>\n",
       "      <td>5</td>\n",
       "      <td>15</td>\n",
       "      <td>Crowne Plaza London Kings Cross</td>\n",
       "      <td>1 Kings Cross Road Islington London WC1X 9HX U...</td>\n",
       "      <td>United Kingdom</td>\n",
       "      <td>Extra charge to use swimming pool</td>\n",
       "      <td>Lovely room good breakfast</td>\n",
       "      <td>7.9</td>\n",
       "      <td>3/27/2016</td>\n",
       "      <td>1</td>\n",
       "      <td>2016.03</td>\n",
       "      <td>United Kingdom</td>\n",
       "    </tr>\n",
       "  </tbody>\n",
       "</table>\n",
       "</div>"
      ],
      "text/plain": [
       "   user_id  hotel_id                       Hotel_Name  \\\n",
       "0        1       831                        H10 Itaca   \n",
       "1        2       913                    Jaz Amsterdam   \n",
       "2        3      1384                      Hotel Manin   \n",
       "3        4        77               11 Cadogan Gardens   \n",
       "4        5        15  Crowne Plaza London Kings Cross   \n",
       "\n",
       "                                       Hotel_Address  \\\n",
       "0  Avenida Roma 22 30 Eixample 08015 Barcelona Spain   \n",
       "1  De Passage 90 Noord Holland Zuidoost 1101 AX A...   \n",
       "2    Via Manin 7 Milan City Center 20121 Milan Italy   \n",
       "3  11 Cadogan Gardens Sloane Square Kensington an...   \n",
       "4  1 Kings Cross Road Islington London WC1X 9HX U...   \n",
       "\n",
       "         Reviewer_Nationality  \\\n",
       "0       United Arab Emirates    \n",
       "1       United Arab Emirates    \n",
       "2               South Africa    \n",
       "3   United States of America    \n",
       "4             United Kingdom    \n",
       "\n",
       "                                     Negative_Review  \\\n",
       "0   No variety in the breakfast buffet as we can ...   \n",
       "1                                            nothing   \n",
       "2     At reception not all the staff were courteous    \n",
       "3                                        No Negative   \n",
       "4                  Extra charge to use swimming pool   \n",
       "\n",
       "                                     Positive_Review  Reviewer_Score  \\\n",
       "0   The staff ate very friendly and the location ...             5.4   \n",
       "1       bedroom decoration and facilities were great             9.6   \n",
       "2                                           Location             7.1   \n",
       "3   Small boutique hotel with friendly staff in a...            10.0   \n",
       "4                         Lovely room good breakfast             7.9   \n",
       "\n",
       "  Review_Date  given_reviews     year   hotel_country  \n",
       "0    9/8/2015              3  2015.09           Spain  \n",
       "1    6/1/2016              4  2016.06     Netherlands  \n",
       "2  10/14/2015              1  2015.10           Italy  \n",
       "3  12/21/2016              4  2016.12  United Kingdom  \n",
       "4   3/27/2016              1  2016.03  United Kingdom  "
      ]
     },
     "execution_count": 11,
     "metadata": {},
     "output_type": "execute_result"
    }
   ],
   "source": [
    "ratings['year'] = ratings['Review_Date'].apply(extraer_anio_mes_resena)\n",
    "ratings['hotel_country'] = ratings['hotel_id'].apply(leer_pais_de_hotel)\n",
    "ratings.head()"
   ]
  },
  {
   "cell_type": "markdown",
   "metadata": {},
   "source": [
    "#### Años distintos en el Dataset"
   ]
  },
  {
   "cell_type": "code",
   "execution_count": 12,
   "metadata": {},
   "outputs": [
    {
     "name": "stdout",
     "output_type": "stream",
     "text": [
      "Total de fechas distintos en el dataset: 25\n"
     ]
    }
   ],
   "source": [
    "unique_years = ratings['year'].nunique()\n",
    "print(f\"Total de fechas distintos en el dataset: {unique_years}\")"
   ]
  },
  {
   "cell_type": "code",
   "execution_count": 14,
   "metadata": {},
   "outputs": [
    {
     "name": "stdout",
     "output_type": "stream",
     "text": [
      "Las reseñas están distribuidas a lo large de 25 meses.\n"
     ]
    },
    {
     "data": {
      "text/plain": [
       "[('2015.08', 19320),\n",
       " ('2015.09', 19738),\n",
       " ('2015.10', 19486),\n",
       " ('2015.11', 18056),\n",
       " ('2015.12', 17927),\n",
       " ('2016.01', 19510),\n",
       " ('2016.02', 18856),\n",
       " ('2016.03', 20744),\n",
       " ('2016.04', 21481),\n",
       " ('2016.05', 23071),\n",
       " ('2016.06', 20941),\n",
       " ('2016.07', 25885),\n",
       " ('2016.08', 27274),\n",
       " ('2016.09', 22690),\n",
       " ('2016.10', 24357),\n",
       " ('2016.11', 17914),\n",
       " ('2016.12', 21680),\n",
       " ('2017.01', 22641),\n",
       " ('2017.02', 19514),\n",
       " ('2017.03', 20366),\n",
       " ('2017.04', 21402),\n",
       " ('2017.05', 23419),\n",
       " ('2017.06', 21955),\n",
       " ('2017.07', 23433),\n",
       " ('2017.08', 4078)]"
      ]
     },
     "execution_count": 14,
     "metadata": {},
     "output_type": "execute_result"
    }
   ],
   "source": [
    "contador_anios = Counter(res for res in ratings['year'])\n",
    "\n",
    "print(f\"Las reseñas están distribuidas a lo large de {len(contador_anios)} meses.\")\n",
    "contador_anios\n",
    "sorted(contador_anios.items(), key=lambda item: item[0], reverse=False)"
   ]
  },
  {
   "cell_type": "code",
   "execution_count": 15,
   "metadata": {},
   "outputs": [
    {
     "data": {
      "image/png": "[encoded data removed]",
      "text/plain": [
       "<Figure size 720x360 with 1 Axes>"
      ]
     },
     "metadata": {
      "needs_background": "light"
     },
     "output_type": "display_data"
    }
   ],
   "source": [
    "years_counts_df = pd.DataFrame([contador_anios]).T.reset_index()\n",
    "years_counts_df.columns = ['years', 'count']\n",
    "years_counts_df = years_counts_df.sort_values(by='count', ascending=False)\n",
    "\n",
    "plt.figure(figsize=(10,5))\n",
    "sns.barplot(x='years', y='count', data=years_counts_df, palette='rocket')\n",
    "plt.xticks(rotation=90)\n",
    "plt.show()"
   ]
  },
  {
   "cell_type": "code",
   "execution_count": 16,
   "metadata": {},
   "outputs": [
    {
     "name": "stdout",
     "output_type": "stream",
     "text": [
      "Total de nacionalidades en el dataset: 227\n"
     ]
    }
   ],
   "source": [
    "unique_nal = ratings['Reviewer_Nationality'].nunique()\n",
    "print(f\"Total de nacionalidades en el dataset: {unique_nal}\")"
   ]
  },
  {
   "cell_type": "markdown",
   "metadata": {},
   "source": [
    "limpiando datos nulos del dataset"
   ]
  },
  {
   "cell_type": "code",
   "execution_count": 17,
   "metadata": {},
   "outputs": [
    {
     "name": "stdout",
     "output_type": "stream",
     "text": [
      "Total reseñas antes de eliminar nulos: 1494\n",
      "Total reseñas después de eliminar nulos: 1494\n"
     ]
    }
   ],
   "source": [
    "print(f\"Total reseñas antes de eliminar nulos: {ratings['hotel_id'].nunique()}\")\n",
    "ratings = ratings[~ratings['hotel_country'].isnull()]\n",
    "print(f\"Total reseñas después de eliminar nulos: {ratings['hotel_id'].nunique()}\")"
   ]
  },
  {
   "cell_type": "markdown",
   "metadata": {},
   "source": [
    "#### Transformando los datos"
   ]
  },
  {
   "cell_type": "markdown",
   "metadata": {},
   "source": [
    "##### paises hoteles vs años reseñas\n",
    "\n",
    "Las filas representan los hoteles y las columnas las características (países y años)\n",
    "\n",
    "`hotel_country` :: cada país sea representado por una característica binaria (1 si pertenece a un país determinado, 0 si no pertenece)"
   ]
  },
  {
   "cell_type": "code",
   "execution_count": 18,
   "metadata": {},
   "outputs": [],
   "source": [
    "paises = list(contador_paises.keys())\n",
    "\n",
    "for g in paises:\n",
    "    ratings[g] = ratings['hotel_country'].transform(lambda x : int(g in x))"
   ]
  },
  {
   "cell_type": "code",
   "execution_count": 19,
   "metadata": {},
   "outputs": [
    {
     "name": "stdout",
     "output_type": "stream",
     "text": [
      "['Netherlands', 'United Kingdom', 'France', 'Spain', 'Italy', 'Austria']\n"
     ]
    },
    {
     "data": {
      "text/html": [
       "<div>\n",
       "<style scoped>\n",
       "    .dataframe tbody tr th:only-of-type {\n",
       "        vertical-align: middle;\n",
       "    }\n",
       "\n",
       "    .dataframe tbody tr th {\n",
       "        vertical-align: top;\n",
       "    }\n",
       "\n",
       "    .dataframe thead th {\n",
       "        text-align: right;\n",
       "    }\n",
       "</style>\n",
       "<table border=\"1\" class=\"dataframe\">\n",
       "  <thead>\n",
       "    <tr style=\"text-align: right;\">\n",
       "      <th></th>\n",
       "      <th>Netherlands</th>\n",
       "      <th>United Kingdom</th>\n",
       "      <th>France</th>\n",
       "      <th>Spain</th>\n",
       "      <th>Italy</th>\n",
       "      <th>Austria</th>\n",
       "    </tr>\n",
       "  </thead>\n",
       "  <tbody>\n",
       "    <tr>\n",
       "      <th>0</th>\n",
       "      <td>0</td>\n",
       "      <td>0</td>\n",
       "      <td>0</td>\n",
       "      <td>1</td>\n",
       "      <td>0</td>\n",
       "      <td>0</td>\n",
       "    </tr>\n",
       "    <tr>\n",
       "      <th>1</th>\n",
       "      <td>1</td>\n",
       "      <td>0</td>\n",
       "      <td>0</td>\n",
       "      <td>0</td>\n",
       "      <td>0</td>\n",
       "      <td>0</td>\n",
       "    </tr>\n",
       "    <tr>\n",
       "      <th>2</th>\n",
       "      <td>0</td>\n",
       "      <td>0</td>\n",
       "      <td>0</td>\n",
       "      <td>0</td>\n",
       "      <td>1</td>\n",
       "      <td>0</td>\n",
       "    </tr>\n",
       "    <tr>\n",
       "      <th>3</th>\n",
       "      <td>0</td>\n",
       "      <td>1</td>\n",
       "      <td>0</td>\n",
       "      <td>0</td>\n",
       "      <td>0</td>\n",
       "      <td>0</td>\n",
       "    </tr>\n",
       "    <tr>\n",
       "      <th>4</th>\n",
       "      <td>0</td>\n",
       "      <td>1</td>\n",
       "      <td>0</td>\n",
       "      <td>0</td>\n",
       "      <td>0</td>\n",
       "      <td>0</td>\n",
       "    </tr>\n",
       "  </tbody>\n",
       "</table>\n",
       "</div>"
      ],
      "text/plain": [
       "   Netherlands  United Kingdom  France  Spain  Italy  Austria\n",
       "0            0               0       0      1      0        0\n",
       "1            1               0       0      0      0        0\n",
       "2            0               0       0      0      1        0\n",
       "3            0               1       0      0      0        0\n",
       "4            0               1       0      0      0        0"
      ]
     },
     "execution_count": 19,
     "metadata": {},
     "output_type": "execute_result"
    }
   ],
   "source": [
    "print(paises)\n",
    "ratings[paises].head()"
   ]
  },
  {
   "cell_type": "markdown",
   "metadata": {},
   "source": [
    "Los países se representan como columnas con propiedades binarias\n",
    "\n",
    "Se le asignan los años a cada columna correspondiente. \n",
    "\n",
    "Se usa la función `get_dummies()`de pandas \n",
    "para crear variables categóricas en variables binarias"
   ]
  },
  {
   "cell_type": "code",
   "execution_count": 20,
   "metadata": {},
   "outputs": [
    {
     "data": {
      "text/html": [
       "<div>\n",
       "<style scoped>\n",
       "    .dataframe tbody tr th:only-of-type {\n",
       "        vertical-align: middle;\n",
       "    }\n",
       "\n",
       "    .dataframe tbody tr th {\n",
       "        vertical-align: top;\n",
       "    }\n",
       "\n",
       "    .dataframe thead th {\n",
       "        text-align: right;\n",
       "    }\n",
       "</style>\n",
       "<table border=\"1\" class=\"dataframe\">\n",
       "  <thead>\n",
       "    <tr style=\"text-align: right;\">\n",
       "      <th></th>\n",
       "      <th>2015.08</th>\n",
       "      <th>2015.09</th>\n",
       "      <th>2015.10</th>\n",
       "      <th>2015.11</th>\n",
       "      <th>2015.12</th>\n",
       "      <th>2016.01</th>\n",
       "      <th>2016.02</th>\n",
       "      <th>2016.03</th>\n",
       "      <th>2016.04</th>\n",
       "      <th>2016.05</th>\n",
       "      <th>...</th>\n",
       "      <th>2016.11</th>\n",
       "      <th>2016.12</th>\n",
       "      <th>2017.01</th>\n",
       "      <th>2017.02</th>\n",
       "      <th>2017.03</th>\n",
       "      <th>2017.04</th>\n",
       "      <th>2017.05</th>\n",
       "      <th>2017.06</th>\n",
       "      <th>2017.07</th>\n",
       "      <th>2017.08</th>\n",
       "    </tr>\n",
       "  </thead>\n",
       "  <tbody>\n",
       "    <tr>\n",
       "      <th>0</th>\n",
       "      <td>False</td>\n",
       "      <td>True</td>\n",
       "      <td>False</td>\n",
       "      <td>False</td>\n",
       "      <td>False</td>\n",
       "      <td>False</td>\n",
       "      <td>False</td>\n",
       "      <td>False</td>\n",
       "      <td>False</td>\n",
       "      <td>False</td>\n",
       "      <td>...</td>\n",
       "      <td>False</td>\n",
       "      <td>False</td>\n",
       "      <td>False</td>\n",
       "      <td>False</td>\n",
       "      <td>False</td>\n",
       "      <td>False</td>\n",
       "      <td>False</td>\n",
       "      <td>False</td>\n",
       "      <td>False</td>\n",
       "      <td>False</td>\n",
       "    </tr>\n",
       "    <tr>\n",
       "      <th>1</th>\n",
       "      <td>False</td>\n",
       "      <td>False</td>\n",
       "      <td>False</td>\n",
       "      <td>False</td>\n",
       "      <td>False</td>\n",
       "      <td>False</td>\n",
       "      <td>False</td>\n",
       "      <td>False</td>\n",
       "      <td>False</td>\n",
       "      <td>False</td>\n",
       "      <td>...</td>\n",
       "      <td>False</td>\n",
       "      <td>False</td>\n",
       "      <td>False</td>\n",
       "      <td>False</td>\n",
       "      <td>False</td>\n",
       "      <td>False</td>\n",
       "      <td>False</td>\n",
       "      <td>False</td>\n",
       "      <td>False</td>\n",
       "      <td>False</td>\n",
       "    </tr>\n",
       "    <tr>\n",
       "      <th>2</th>\n",
       "      <td>False</td>\n",
       "      <td>False</td>\n",
       "      <td>True</td>\n",
       "      <td>False</td>\n",
       "      <td>False</td>\n",
       "      <td>False</td>\n",
       "      <td>False</td>\n",
       "      <td>False</td>\n",
       "      <td>False</td>\n",
       "      <td>False</td>\n",
       "      <td>...</td>\n",
       "      <td>False</td>\n",
       "      <td>False</td>\n",
       "      <td>False</td>\n",
       "      <td>False</td>\n",
       "      <td>False</td>\n",
       "      <td>False</td>\n",
       "      <td>False</td>\n",
       "      <td>False</td>\n",
       "      <td>False</td>\n",
       "      <td>False</td>\n",
       "    </tr>\n",
       "    <tr>\n",
       "      <th>3</th>\n",
       "      <td>False</td>\n",
       "      <td>False</td>\n",
       "      <td>False</td>\n",
       "      <td>False</td>\n",
       "      <td>False</td>\n",
       "      <td>False</td>\n",
       "      <td>False</td>\n",
       "      <td>False</td>\n",
       "      <td>False</td>\n",
       "      <td>False</td>\n",
       "      <td>...</td>\n",
       "      <td>False</td>\n",
       "      <td>True</td>\n",
       "      <td>False</td>\n",
       "      <td>False</td>\n",
       "      <td>False</td>\n",
       "      <td>False</td>\n",
       "      <td>False</td>\n",
       "      <td>False</td>\n",
       "      <td>False</td>\n",
       "      <td>False</td>\n",
       "    </tr>\n",
       "    <tr>\n",
       "      <th>4</th>\n",
       "      <td>False</td>\n",
       "      <td>False</td>\n",
       "      <td>False</td>\n",
       "      <td>False</td>\n",
       "      <td>False</td>\n",
       "      <td>False</td>\n",
       "      <td>False</td>\n",
       "      <td>True</td>\n",
       "      <td>False</td>\n",
       "      <td>False</td>\n",
       "      <td>...</td>\n",
       "      <td>False</td>\n",
       "      <td>False</td>\n",
       "      <td>False</td>\n",
       "      <td>False</td>\n",
       "      <td>False</td>\n",
       "      <td>False</td>\n",
       "      <td>False</td>\n",
       "      <td>False</td>\n",
       "      <td>False</td>\n",
       "      <td>False</td>\n",
       "    </tr>\n",
       "  </tbody>\n",
       "</table>\n",
       "<p>5 rows × 25 columns</p>\n",
       "</div>"
      ],
      "text/plain": [
       "   2015.08  2015.09  2015.10  2015.11  2015.12  2016.01  2016.02  2016.03  \\\n",
       "0    False     True    False    False    False    False    False    False   \n",
       "1    False    False    False    False    False    False    False    False   \n",
       "2    False    False     True    False    False    False    False    False   \n",
       "3    False    False    False    False    False    False    False    False   \n",
       "4    False    False    False    False    False    False    False     True   \n",
       "\n",
       "   2016.04  2016.05  ...  2016.11  2016.12  2017.01  2017.02  2017.03  \\\n",
       "0    False    False  ...    False    False    False    False    False   \n",
       "1    False    False  ...    False    False    False    False    False   \n",
       "2    False    False  ...    False    False    False    False    False   \n",
       "3    False    False  ...    False     True    False    False    False   \n",
       "4    False    False  ...    False    False    False    False    False   \n",
       "\n",
       "   2017.04  2017.05  2017.06  2017.07  2017.08  \n",
       "0    False    False    False    False    False  \n",
       "1    False    False    False    False    False  \n",
       "2    False    False    False    False    False  \n",
       "3    False    False    False    False    False  \n",
       "4    False    False    False    False    False  \n",
       "\n",
       "[5 rows x 25 columns]"
      ]
     },
     "execution_count": 20,
     "metadata": {},
     "output_type": "execute_result"
    }
   ],
   "source": [
    "review_year = pd.get_dummies(ratings['year'], dtype=bool)\n",
    "review_year.head()"
   ]
  },
  {
   "cell_type": "markdown",
   "metadata": {},
   "source": [
    "nuevo dataframe con las propiedades de año y país: `review_features`\n",
    "\n",
    "se utiliza la función `concat` de pandas, concatenando países y fechas en un solo dataframe\n"
   ]
  },
  {
   "cell_type": "code",
   "execution_count": 21,
   "metadata": {},
   "outputs": [
    {
     "data": {
      "text/html": [
       "<div>\n",
       "<style scoped>\n",
       "    .dataframe tbody tr th:only-of-type {\n",
       "        vertical-align: middle;\n",
       "    }\n",
       "\n",
       "    .dataframe tbody tr th {\n",
       "        vertical-align: top;\n",
       "    }\n",
       "\n",
       "    .dataframe thead th {\n",
       "        text-align: right;\n",
       "    }\n",
       "</style>\n",
       "<table border=\"1\" class=\"dataframe\">\n",
       "  <thead>\n",
       "    <tr style=\"text-align: right;\">\n",
       "      <th></th>\n",
       "      <th>Netherlands</th>\n",
       "      <th>United Kingdom</th>\n",
       "      <th>France</th>\n",
       "      <th>Spain</th>\n",
       "      <th>Italy</th>\n",
       "      <th>Austria</th>\n",
       "      <th>2015.08</th>\n",
       "      <th>2015.09</th>\n",
       "      <th>2015.10</th>\n",
       "      <th>2015.11</th>\n",
       "      <th>...</th>\n",
       "      <th>2016.11</th>\n",
       "      <th>2016.12</th>\n",
       "      <th>2017.01</th>\n",
       "      <th>2017.02</th>\n",
       "      <th>2017.03</th>\n",
       "      <th>2017.04</th>\n",
       "      <th>2017.05</th>\n",
       "      <th>2017.06</th>\n",
       "      <th>2017.07</th>\n",
       "      <th>2017.08</th>\n",
       "    </tr>\n",
       "  </thead>\n",
       "  <tbody>\n",
       "    <tr>\n",
       "      <th>0</th>\n",
       "      <td>0</td>\n",
       "      <td>0</td>\n",
       "      <td>0</td>\n",
       "      <td>1</td>\n",
       "      <td>0</td>\n",
       "      <td>0</td>\n",
       "      <td>False</td>\n",
       "      <td>True</td>\n",
       "      <td>False</td>\n",
       "      <td>False</td>\n",
       "      <td>...</td>\n",
       "      <td>False</td>\n",
       "      <td>False</td>\n",
       "      <td>False</td>\n",
       "      <td>False</td>\n",
       "      <td>False</td>\n",
       "      <td>False</td>\n",
       "      <td>False</td>\n",
       "      <td>False</td>\n",
       "      <td>False</td>\n",
       "      <td>False</td>\n",
       "    </tr>\n",
       "    <tr>\n",
       "      <th>1</th>\n",
       "      <td>1</td>\n",
       "      <td>0</td>\n",
       "      <td>0</td>\n",
       "      <td>0</td>\n",
       "      <td>0</td>\n",
       "      <td>0</td>\n",
       "      <td>False</td>\n",
       "      <td>False</td>\n",
       "      <td>False</td>\n",
       "      <td>False</td>\n",
       "      <td>...</td>\n",
       "      <td>False</td>\n",
       "      <td>False</td>\n",
       "      <td>False</td>\n",
       "      <td>False</td>\n",
       "      <td>False</td>\n",
       "      <td>False</td>\n",
       "      <td>False</td>\n",
       "      <td>False</td>\n",
       "      <td>False</td>\n",
       "      <td>False</td>\n",
       "    </tr>\n",
       "    <tr>\n",
       "      <th>2</th>\n",
       "      <td>0</td>\n",
       "      <td>0</td>\n",
       "      <td>0</td>\n",
       "      <td>0</td>\n",
       "      <td>1</td>\n",
       "      <td>0</td>\n",
       "      <td>False</td>\n",
       "      <td>False</td>\n",
       "      <td>True</td>\n",
       "      <td>False</td>\n",
       "      <td>...</td>\n",
       "      <td>False</td>\n",
       "      <td>False</td>\n",
       "      <td>False</td>\n",
       "      <td>False</td>\n",
       "      <td>False</td>\n",
       "      <td>False</td>\n",
       "      <td>False</td>\n",
       "      <td>False</td>\n",
       "      <td>False</td>\n",
       "      <td>False</td>\n",
       "    </tr>\n",
       "    <tr>\n",
       "      <th>3</th>\n",
       "      <td>0</td>\n",
       "      <td>1</td>\n",
       "      <td>0</td>\n",
       "      <td>0</td>\n",
       "      <td>0</td>\n",
       "      <td>0</td>\n",
       "      <td>False</td>\n",
       "      <td>False</td>\n",
       "      <td>False</td>\n",
       "      <td>False</td>\n",
       "      <td>...</td>\n",
       "      <td>False</td>\n",
       "      <td>True</td>\n",
       "      <td>False</td>\n",
       "      <td>False</td>\n",
       "      <td>False</td>\n",
       "      <td>False</td>\n",
       "      <td>False</td>\n",
       "      <td>False</td>\n",
       "      <td>False</td>\n",
       "      <td>False</td>\n",
       "    </tr>\n",
       "    <tr>\n",
       "      <th>4</th>\n",
       "      <td>0</td>\n",
       "      <td>1</td>\n",
       "      <td>0</td>\n",
       "      <td>0</td>\n",
       "      <td>0</td>\n",
       "      <td>0</td>\n",
       "      <td>False</td>\n",
       "      <td>False</td>\n",
       "      <td>False</td>\n",
       "      <td>False</td>\n",
       "      <td>...</td>\n",
       "      <td>False</td>\n",
       "      <td>False</td>\n",
       "      <td>False</td>\n",
       "      <td>False</td>\n",
       "      <td>False</td>\n",
       "      <td>False</td>\n",
       "      <td>False</td>\n",
       "      <td>False</td>\n",
       "      <td>False</td>\n",
       "      <td>False</td>\n",
       "    </tr>\n",
       "  </tbody>\n",
       "</table>\n",
       "<p>5 rows × 31 columns</p>\n",
       "</div>"
      ],
      "text/plain": [
       "   Netherlands  United Kingdom  France  Spain  Italy  Austria  2015.08  \\\n",
       "0            0               0       0      1      0        0    False   \n",
       "1            1               0       0      0      0        0    False   \n",
       "2            0               0       0      0      1        0    False   \n",
       "3            0               1       0      0      0        0    False   \n",
       "4            0               1       0      0      0        0    False   \n",
       "\n",
       "   2015.09  2015.10  2015.11  ...  2016.11  2016.12  2017.01  2017.02  \\\n",
       "0     True    False    False  ...    False    False    False    False   \n",
       "1    False    False    False  ...    False    False    False    False   \n",
       "2    False     True    False  ...    False    False    False    False   \n",
       "3    False    False    False  ...    False     True    False    False   \n",
       "4    False    False    False  ...    False    False    False    False   \n",
       "\n",
       "   2017.03  2017.04  2017.05  2017.06  2017.07  2017.08  \n",
       "0    False    False    False    False    False    False  \n",
       "1    False    False    False    False    False    False  \n",
       "2    False    False    False    False    False    False  \n",
       "3    False    False    False    False    False    False  \n",
       "4    False    False    False    False    False    False  \n",
       "\n",
       "[5 rows x 31 columns]"
      ]
     },
     "execution_count": 21,
     "metadata": {},
     "output_type": "execute_result"
    }
   ],
   "source": [
    "review_features = pd.concat([ratings[paises], review_year], axis=1)\n",
    "review_features.head()"
   ]
  },
  {
   "cell_type": "code",
   "execution_count": 22,
   "metadata": {},
   "outputs": [
    {
     "name": "stdout",
     "output_type": "stream",
     "text": [
      "515738\n"
     ]
    }
   ],
   "source": [
    "print(len(review_features))"
   ]
  },
  {
   "cell_type": "code",
   "execution_count": 23,
   "metadata": {},
   "outputs": [
    {
     "name": "stdout",
     "output_type": "stream",
     "text": [
      "100000\n"
     ]
    }
   ],
   "source": [
    "rev_features = review_features.iloc[0:100000, :]\n",
    "\n",
    "rev_features.head()\n",
    "print(len(rev_features))"
   ]
  },
  {
   "cell_type": "markdown",
   "metadata": {},
   "source": [
    "### Construyendo el Sistema de Recomendación\n",
    "\n",
    "\"Hoteles parecidos\" utilizando la similitud Coseno\n",
    "\n",
    "`cosine similarity` \n",
    "\n"
   ]
  },
  {
   "cell_type": "code",
   "execution_count": 24,
   "metadata": {},
   "outputs": [
    {
     "name": "stdout",
     "output_type": "stream",
     "text": [
      "Las dimensiones de similaridad coseno de las caracteristicas de la matriz de similitud son: (100000, 100000)\n"
     ]
    }
   ],
   "source": [
    "from sklearn.metrics.pairwise import cosine_similarity\n",
    "\n",
    "cosine_sim = cosine_similarity(rev_features, rev_features)\n",
    "print(f\"Las dimensiones de similaridad coseno de las caracteristicas de la matriz de similitud son: {cosine_sim.shape}\")\n"
   ]
  },
  {
   "cell_type": "code",
   "execution_count": 33,
   "metadata": {},
   "outputs": [
    {
     "data": {
      "text/html": [
       "<div>\n",
       "<style scoped>\n",
       "    .dataframe tbody tr th:only-of-type {\n",
       "        vertical-align: middle;\n",
       "    }\n",
       "\n",
       "    .dataframe tbody tr th {\n",
       "        vertical-align: top;\n",
       "    }\n",
       "\n",
       "    .dataframe thead th {\n",
       "        text-align: right;\n",
       "    }\n",
       "</style>\n",
       "<table border=\"1\" class=\"dataframe\">\n",
       "  <thead>\n",
       "    <tr style=\"text-align: right;\">\n",
       "      <th></th>\n",
       "      <th>Netherlands</th>\n",
       "      <th>United Kingdom</th>\n",
       "      <th>France</th>\n",
       "      <th>Spain</th>\n",
       "      <th>Italy</th>\n",
       "      <th>Austria</th>\n",
       "      <th>2015.08</th>\n",
       "      <th>2015.09</th>\n",
       "      <th>2015.10</th>\n",
       "      <th>2015.11</th>\n",
       "      <th>...</th>\n",
       "      <th>2016.11</th>\n",
       "      <th>2016.12</th>\n",
       "      <th>2017.01</th>\n",
       "      <th>2017.02</th>\n",
       "      <th>2017.03</th>\n",
       "      <th>2017.04</th>\n",
       "      <th>2017.05</th>\n",
       "      <th>2017.06</th>\n",
       "      <th>2017.07</th>\n",
       "      <th>2017.08</th>\n",
       "    </tr>\n",
       "  </thead>\n",
       "  <tbody>\n",
       "    <tr>\n",
       "      <th>0</th>\n",
       "      <td>0</td>\n",
       "      <td>0</td>\n",
       "      <td>0</td>\n",
       "      <td>1</td>\n",
       "      <td>0</td>\n",
       "      <td>0</td>\n",
       "      <td>False</td>\n",
       "      <td>True</td>\n",
       "      <td>False</td>\n",
       "      <td>False</td>\n",
       "      <td>...</td>\n",
       "      <td>False</td>\n",
       "      <td>False</td>\n",
       "      <td>False</td>\n",
       "      <td>False</td>\n",
       "      <td>False</td>\n",
       "      <td>False</td>\n",
       "      <td>False</td>\n",
       "      <td>False</td>\n",
       "      <td>False</td>\n",
       "      <td>False</td>\n",
       "    </tr>\n",
       "    <tr>\n",
       "      <th>1</th>\n",
       "      <td>1</td>\n",
       "      <td>0</td>\n",
       "      <td>0</td>\n",
       "      <td>0</td>\n",
       "      <td>0</td>\n",
       "      <td>0</td>\n",
       "      <td>False</td>\n",
       "      <td>False</td>\n",
       "      <td>False</td>\n",
       "      <td>False</td>\n",
       "      <td>...</td>\n",
       "      <td>False</td>\n",
       "      <td>False</td>\n",
       "      <td>False</td>\n",
       "      <td>False</td>\n",
       "      <td>False</td>\n",
       "      <td>False</td>\n",
       "      <td>False</td>\n",
       "      <td>False</td>\n",
       "      <td>False</td>\n",
       "      <td>False</td>\n",
       "    </tr>\n",
       "    <tr>\n",
       "      <th>2</th>\n",
       "      <td>0</td>\n",
       "      <td>0</td>\n",
       "      <td>0</td>\n",
       "      <td>0</td>\n",
       "      <td>1</td>\n",
       "      <td>0</td>\n",
       "      <td>False</td>\n",
       "      <td>False</td>\n",
       "      <td>True</td>\n",
       "      <td>False</td>\n",
       "      <td>...</td>\n",
       "      <td>False</td>\n",
       "      <td>False</td>\n",
       "      <td>False</td>\n",
       "      <td>False</td>\n",
       "      <td>False</td>\n",
       "      <td>False</td>\n",
       "      <td>False</td>\n",
       "      <td>False</td>\n",
       "      <td>False</td>\n",
       "      <td>False</td>\n",
       "    </tr>\n",
       "    <tr>\n",
       "      <th>3</th>\n",
       "      <td>0</td>\n",
       "      <td>1</td>\n",
       "      <td>0</td>\n",
       "      <td>0</td>\n",
       "      <td>0</td>\n",
       "      <td>0</td>\n",
       "      <td>False</td>\n",
       "      <td>False</td>\n",
       "      <td>False</td>\n",
       "      <td>False</td>\n",
       "      <td>...</td>\n",
       "      <td>False</td>\n",
       "      <td>True</td>\n",
       "      <td>False</td>\n",
       "      <td>False</td>\n",
       "      <td>False</td>\n",
       "      <td>False</td>\n",
       "      <td>False</td>\n",
       "      <td>False</td>\n",
       "      <td>False</td>\n",
       "      <td>False</td>\n",
       "    </tr>\n",
       "    <tr>\n",
       "      <th>4</th>\n",
       "      <td>0</td>\n",
       "      <td>1</td>\n",
       "      <td>0</td>\n",
       "      <td>0</td>\n",
       "      <td>0</td>\n",
       "      <td>0</td>\n",
       "      <td>False</td>\n",
       "      <td>False</td>\n",
       "      <td>False</td>\n",
       "      <td>False</td>\n",
       "      <td>...</td>\n",
       "      <td>False</td>\n",
       "      <td>False</td>\n",
       "      <td>False</td>\n",
       "      <td>False</td>\n",
       "      <td>False</td>\n",
       "      <td>False</td>\n",
       "      <td>False</td>\n",
       "      <td>False</td>\n",
       "      <td>False</td>\n",
       "      <td>False</td>\n",
       "    </tr>\n",
       "    <tr>\n",
       "      <th>...</th>\n",
       "      <td>...</td>\n",
       "      <td>...</td>\n",
       "      <td>...</td>\n",
       "      <td>...</td>\n",
       "      <td>...</td>\n",
       "      <td>...</td>\n",
       "      <td>...</td>\n",
       "      <td>...</td>\n",
       "      <td>...</td>\n",
       "      <td>...</td>\n",
       "      <td>...</td>\n",
       "      <td>...</td>\n",
       "      <td>...</td>\n",
       "      <td>...</td>\n",
       "      <td>...</td>\n",
       "      <td>...</td>\n",
       "      <td>...</td>\n",
       "      <td>...</td>\n",
       "      <td>...</td>\n",
       "      <td>...</td>\n",
       "      <td>...</td>\n",
       "    </tr>\n",
       "    <tr>\n",
       "      <th>99995</th>\n",
       "      <td>0</td>\n",
       "      <td>1</td>\n",
       "      <td>0</td>\n",
       "      <td>0</td>\n",
       "      <td>0</td>\n",
       "      <td>0</td>\n",
       "      <td>False</td>\n",
       "      <td>False</td>\n",
       "      <td>False</td>\n",
       "      <td>False</td>\n",
       "      <td>...</td>\n",
       "      <td>False</td>\n",
       "      <td>False</td>\n",
       "      <td>False</td>\n",
       "      <td>False</td>\n",
       "      <td>False</td>\n",
       "      <td>False</td>\n",
       "      <td>False</td>\n",
       "      <td>False</td>\n",
       "      <td>False</td>\n",
       "      <td>False</td>\n",
       "    </tr>\n",
       "    <tr>\n",
       "      <th>99996</th>\n",
       "      <td>0</td>\n",
       "      <td>1</td>\n",
       "      <td>0</td>\n",
       "      <td>0</td>\n",
       "      <td>0</td>\n",
       "      <td>0</td>\n",
       "      <td>False</td>\n",
       "      <td>False</td>\n",
       "      <td>False</td>\n",
       "      <td>False</td>\n",
       "      <td>...</td>\n",
       "      <td>False</td>\n",
       "      <td>False</td>\n",
       "      <td>False</td>\n",
       "      <td>False</td>\n",
       "      <td>False</td>\n",
       "      <td>False</td>\n",
       "      <td>False</td>\n",
       "      <td>False</td>\n",
       "      <td>False</td>\n",
       "      <td>False</td>\n",
       "    </tr>\n",
       "    <tr>\n",
       "      <th>99997</th>\n",
       "      <td>0</td>\n",
       "      <td>0</td>\n",
       "      <td>0</td>\n",
       "      <td>0</td>\n",
       "      <td>1</td>\n",
       "      <td>0</td>\n",
       "      <td>False</td>\n",
       "      <td>False</td>\n",
       "      <td>False</td>\n",
       "      <td>False</td>\n",
       "      <td>...</td>\n",
       "      <td>False</td>\n",
       "      <td>False</td>\n",
       "      <td>False</td>\n",
       "      <td>False</td>\n",
       "      <td>False</td>\n",
       "      <td>False</td>\n",
       "      <td>False</td>\n",
       "      <td>False</td>\n",
       "      <td>False</td>\n",
       "      <td>False</td>\n",
       "    </tr>\n",
       "    <tr>\n",
       "      <th>99998</th>\n",
       "      <td>0</td>\n",
       "      <td>0</td>\n",
       "      <td>0</td>\n",
       "      <td>1</td>\n",
       "      <td>0</td>\n",
       "      <td>0</td>\n",
       "      <td>False</td>\n",
       "      <td>True</td>\n",
       "      <td>False</td>\n",
       "      <td>False</td>\n",
       "      <td>...</td>\n",
       "      <td>False</td>\n",
       "      <td>False</td>\n",
       "      <td>False</td>\n",
       "      <td>False</td>\n",
       "      <td>False</td>\n",
       "      <td>False</td>\n",
       "      <td>False</td>\n",
       "      <td>False</td>\n",
       "      <td>False</td>\n",
       "      <td>False</td>\n",
       "    </tr>\n",
       "    <tr>\n",
       "      <th>99999</th>\n",
       "      <td>0</td>\n",
       "      <td>1</td>\n",
       "      <td>0</td>\n",
       "      <td>0</td>\n",
       "      <td>0</td>\n",
       "      <td>0</td>\n",
       "      <td>False</td>\n",
       "      <td>False</td>\n",
       "      <td>False</td>\n",
       "      <td>False</td>\n",
       "      <td>...</td>\n",
       "      <td>False</td>\n",
       "      <td>False</td>\n",
       "      <td>False</td>\n",
       "      <td>False</td>\n",
       "      <td>False</td>\n",
       "      <td>False</td>\n",
       "      <td>False</td>\n",
       "      <td>False</td>\n",
       "      <td>True</td>\n",
       "      <td>False</td>\n",
       "    </tr>\n",
       "  </tbody>\n",
       "</table>\n",
       "<p>100000 rows × 31 columns</p>\n",
       "</div>"
      ],
      "text/plain": [
       "       Netherlands  United Kingdom  France  Spain  Italy  Austria  2015.08  \\\n",
       "0                0               0       0      1      0        0    False   \n",
       "1                1               0       0      0      0        0    False   \n",
       "2                0               0       0      0      1        0    False   \n",
       "3                0               1       0      0      0        0    False   \n",
       "4                0               1       0      0      0        0    False   \n",
       "...            ...             ...     ...    ...    ...      ...      ...   \n",
       "99995            0               1       0      0      0        0    False   \n",
       "99996            0               1       0      0      0        0    False   \n",
       "99997            0               0       0      0      1        0    False   \n",
       "99998            0               0       0      1      0        0    False   \n",
       "99999            0               1       0      0      0        0    False   \n",
       "\n",
       "       2015.09  2015.10  2015.11  ...  2016.11  2016.12  2017.01  2017.02  \\\n",
       "0         True    False    False  ...    False    False    False    False   \n",
       "1        False    False    False  ...    False    False    False    False   \n",
       "2        False     True    False  ...    False    False    False    False   \n",
       "3        False    False    False  ...    False     True    False    False   \n",
       "4        False    False    False  ...    False    False    False    False   \n",
       "...        ...      ...      ...  ...      ...      ...      ...      ...   \n",
       "99995    False    False    False  ...    False    False    False    False   \n",
       "99996    False    False    False  ...    False    False    False    False   \n",
       "99997    False    False    False  ...    False    False    False    False   \n",
       "99998     True    False    False  ...    False    False    False    False   \n",
       "99999    False    False    False  ...    False    False    False    False   \n",
       "\n",
       "       2017.03  2017.04  2017.05  2017.06  2017.07  2017.08  \n",
       "0        False    False    False    False    False    False  \n",
       "1        False    False    False    False    False    False  \n",
       "2        False    False    False    False    False    False  \n",
       "3        False    False    False    False    False    False  \n",
       "4        False    False    False    False    False    False  \n",
       "...        ...      ...      ...      ...      ...      ...  \n",
       "99995    False    False    False    False    False    False  \n",
       "99996    False    False    False    False    False    False  \n",
       "99997    False    False    False    False    False    False  \n",
       "99998    False    False    False    False    False    False  \n",
       "99999    False    False    False    False     True    False  \n",
       "\n",
       "[100000 rows x 31 columns]"
      ]
     },
     "execution_count": 33,
     "metadata": {},
     "output_type": "execute_result"
    }
   ],
   "source": [
    "#del cosine_sim\n",
    "rev_features"
   ]
  },
  {
   "cell_type": "code",
   "execution_count": 26,
   "metadata": {},
   "outputs": [
    {
     "name": "stdout",
     "output_type": "stream",
     "text": [
      "Requirement already satisfied: fuzzywuzzy in /Users/feratus/opt/anaconda3/lib/python3.7/site-packages (0.18.0)\n",
      "Note: you may need to restart the kernel to use updated packages.\n"
     ]
    }
   ],
   "source": [
    "pip install fuzzywuzzy"
   ]
  },
  {
   "cell_type": "code",
   "execution_count": 27,
   "metadata": {},
   "outputs": [
    {
     "name": "stderr",
     "output_type": "stream",
     "text": [
      "/Users/feratus/opt/anaconda3/lib/python3.7/site-packages/fuzzywuzzy/fuzz.py:11: UserWarning: Using slow pure-python SequenceMatcher. Install python-Levenshtein to remove this warning\n",
      "  warnings.warn('Using slow pure-python SequenceMatcher. Install python-Levenshtein to remove this warning')\n"
     ]
    }
   ],
   "source": [
    "from fuzzywuzzy import process\n",
    "\n",
    "def encuentra_hotel(nombre_hotel):\n",
    "    all_hotels = hotels['Hotel_Name'].tolist()\n",
    "    closest_match = process.extractOne(nombre_hotel, all_hotels)\n",
    "    return closest_match[0]"
   ]
  },
  {
   "cell_type": "code",
   "execution_count": 64,
   "metadata": {},
   "outputs": [
    {
     "name": "stdout",
     "output_type": "stream",
     "text": [
      "El nombre corecto del hotel es: Britannia International Hotel Canary Wharf\n"
     ]
    }
   ],
   "source": [
    "hotel = encuentra_hotel('Britannia International Hotel')\n",
    "print(f\"El nombre corecto del hotel es: {hotel}\")"
   ]
  },
  {
   "cell_type": "code",
   "execution_count": 65,
   "metadata": {},
   "outputs": [
    {
     "name": "stdout",
     "output_type": "stream",
     "text": [
      "El indice del hotel 'Britannia International Hotel Canary Wharf' en la matriz hotel_idx es: 186\n"
     ]
    }
   ],
   "source": [
    "hotel_idx = dict(zip(hotels['Hotel_Name'], list(hotels.index)))\n",
    "idx = hotel_idx[hotel]\n",
    "print(f\"El indice del hotel '{hotel}' en la matriz hotel_idx es: {idx}\")"
   ]
  },
  {
   "cell_type": "code",
   "execution_count": 66,
   "metadata": {},
   "outputs": [
    {
     "data": {
      "text/plain": [
       "[755, 1160, 1230, 1765, 2018]"
      ]
     },
     "execution_count": 66,
     "metadata": {},
     "output_type": "execute_result"
    }
   ],
   "source": [
    "num_recomendaciones = 5\n",
    "sim_scores = list(enumerate(cosine_sim[idx]))\n",
    "sim_scores = sorted(sim_scores, key=lambda x: x[1], reverse=True)\n",
    "sim_scores = sim_scores[1:(num_recomendaciones+1)]\n",
    "similar_hotels = [i[0] for i in sim_scores]\n",
    "similar_hotels"
   ]
  },
  {
   "cell_type": "code",
   "execution_count": 72,
   "metadata": {},
   "outputs": [
    {
     "data": {
      "text/html": [
       "<div>\n",
       "<style scoped>\n",
       "    .dataframe tbody tr th:only-of-type {\n",
       "        vertical-align: middle;\n",
       "    }\n",
       "\n",
       "    .dataframe tbody tr th {\n",
       "        vertical-align: top;\n",
       "    }\n",
       "\n",
       "    .dataframe thead th {\n",
       "        text-align: right;\n",
       "    }\n",
       "</style>\n",
       "<table border=\"1\" class=\"dataframe\">\n",
       "  <thead>\n",
       "    <tr style=\"text-align: right;\">\n",
       "      <th></th>\n",
       "      <th>hotel_id</th>\n",
       "      <th>hotel_country</th>\n",
       "      <th>Hotel_Name</th>\n",
       "      <th>Hotel_Address</th>\n",
       "    </tr>\n",
       "  </thead>\n",
       "  <tbody>\n",
       "  </tbody>\n",
       "</table>\n",
       "</div>"
      ],
      "text/plain": [
       "Empty DataFrame\n",
       "Columns: [hotel_id, hotel_country, Hotel_Name, Hotel_Address]\n",
       "Index: []"
      ]
     },
     "execution_count": 72,
     "metadata": {},
     "output_type": "execute_result"
    }
   ],
   "source": [
    "#hotel_cos = hotels[['Hotel_Name', 'hotel_country']].iloc[similar_hotels]\n",
    "hotel_cos = hotels[hotels['hotel_id'] == 2018]\n",
    "hotel_cos"
   ]
  },
  {
   "cell_type": "code",
   "execution_count": 63,
   "metadata": {},
   "outputs": [
    {
     "name": "stdout",
     "output_type": "stream",
     "text": [
      "Porque te hospedaste en el hotel 'Hotel Esther a',\n",
      "Te pueden interesar los siguientes hoteles:\n",
      "\t* (39) 'The Nadler Victoria' en United Kingdom\n",
      "\t       [reseña promedio: 9.31]\n",
      "\t* (163) 'Le Marquis Eiffel' en France\n",
      "\t       [reseña promedio: 8.78]\n",
      "\t* (258) 'Okko Hotels Paris Porte De Versailles' en France\n",
      "\t       [reseña promedio: 9.08]\n",
      "\t* (274) 'H tel Le M' en France\n",
      "\t       [reseña promedio: 8.23]\n",
      "\t* (283) 'Mercure Paris Notre Dame Saint Germain des Pr s' en France\n",
      "\t       [reseña promedio: 8.18]\n"
     ]
    }
   ],
   "source": [
    "print(f\"Porque te hospedaste en el hotel '{hotel}',\")\n",
    "print(f\"Te pueden interesar los siguientes hoteles:\")\n",
    "for i in similar_hotels:\n",
    "    print(f\"\\t* ({i}) '{hotels.loc[hotels['hotel_id']==i].Hotel_Name.values[0]}' en {hotels.loc[hotels['hotel_id'] == i].hotel_country.values[0]}\")\n",
    "    print(f\"\\t       [reseña promedio: {round(ratings[ratings['hotel_id'] == i]['Reviewer_Score'].mean(), 2)}]\")\n"
   ]
  },
  {
   "cell_type": "markdown",
   "metadata": {},
   "source": [
    "recomendaciones basadas en otros nombres de hotel"
   ]
  },
  {
   "cell_type": "code",
   "execution_count": 77,
   "metadata": {},
   "outputs": [],
   "source": [
    "def obtener_recomendaciones_basadas_contenido(nombre_string, numero_recomendaciones=5):\n",
    "    title = encuentra_hotel(nombre_string)\n",
    "    idx = hotel_idx[title]\n",
    "    sim_scores = list(enumerate(cosine_sim[idx]))\n",
    "    sim_scores = sorted(sim_scores, key=lambda x: x[1], reverse=True)\n",
    "    sim_scores = sim_scores[1:(numero_recomendaciones+1)]\n",
    "    similar_hotels = [i[0] for i in sim_scores]\n",
    "    print(f\"Los Hoteles recomendados con base en el Hotel {title} son:\")\n",
    "    print(hotels['Hotel_Name'].iloc[similar_hotels])"
   ]
  },
  {
   "cell_type": "code",
   "execution_count": 78,
   "metadata": {},
   "outputs": [
    {
     "name": "stdout",
     "output_type": "stream",
     "text": [
      "Los Hoteles recomendados con base en el Hotel Hotel Esther a son:\n",
      "39                                 The Nadler Victoria\n",
      "163                                  Le Marquis Eiffel\n",
      "258              Okko Hotels Paris Porte De Versailles\n",
      "274                                         H tel Le M\n",
      "283    Mercure Paris Notre Dame Saint Germain des Pr s\n",
      "Name: Hotel_Name, dtype: object\n"
     ]
    }
   ],
   "source": [
    "obtener_recomendaciones_basadas_contenido('Hotel Ester', 5)"
   ]
  }
 ],
 "metadata": {
  "kernelspec": {
   "display_name": "Python 3",
   "language": "python",
   "name": "python3"
  },
  "language_info": {
   "codemirror_mode": {
    "name": "ipython",
    "version": 3
   },
   "file_extension": ".py",
   "mimetype": "text/x-python",
   "name": "python",
   "nbconvert_exporter": "python",
   "pygments_lexer": "ipython3",
   "version": "3.7.6"
  }
 },
 "nbformat": 4,
 "nbformat_minor": 2
}
