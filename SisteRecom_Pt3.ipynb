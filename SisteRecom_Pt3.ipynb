{
 "cells": [
  {
   "cell_type": "markdown",
   "metadata": {},
   "source": [
    "\n",
    "## Parte 3: Construyendo un Sistema de Recomendacion con Feedback Implicito\n"
   ]
  },
  {
   "cell_type": "code",
   "execution_count": 1,
   "metadata": {},
   "outputs": [
    {
     "name": "stdout",
     "output_type": "stream",
     "text": [
      "Collecting implicit\n",
      "  Downloading implicit-0.7.2-cp37-cp37m-macosx_10_9_x86_64.whl.metadata (6.1 kB)\n",
      "Requirement already satisfied: numpy>=1.17.0 in /Users/feratus/opt/anaconda3/lib/python3.7/site-packages (from implicit) (1.18.1)\n",
      "Requirement already satisfied: scipy>=0.16 in /Users/feratus/opt/anaconda3/lib/python3.7/site-packages (from implicit) (1.4.1)\n",
      "Requirement already satisfied: tqdm>=4.27 in /Users/feratus/opt/anaconda3/lib/python3.7/site-packages (from implicit) (4.42.1)\n",
      "Collecting threadpoolctl (from implicit)\n",
      "  Downloading threadpoolctl-3.1.0-py3-none-any.whl.metadata (9.2 kB)\n",
      "Downloading implicit-0.7.2-cp37-cp37m-macosx_10_9_x86_64.whl (802 kB)\n",
      "\u001b[2K   \u001b[90m━━━━━━━━━━━━━━━━━━━━━━━━━━━━━━━━━━━━━━━━\u001b[0m \u001b[32m802.9/802.9 kB\u001b[0m \u001b[31m4.3 MB/s\u001b[0m eta \u001b[36m0:00:00\u001b[0ma \u001b[36m0:00:01\u001b[0m\n",
      "\u001b[?25hDownloading threadpoolctl-3.1.0-py3-none-any.whl (14 kB)\n",
      "Installing collected packages: threadpoolctl, implicit\n",
      "Successfully installed implicit-0.7.2 threadpoolctl-3.1.0\n",
      "Note: you may need to restart the kernel to use updated packages.\n"
     ]
    }
   ],
   "source": [
    "pip install implicit"
   ]
  },
  {
   "cell_type": "code",
   "execution_count": 1,
   "metadata": {},
   "outputs": [],
   "source": [
    "import numpy as np\n",
    "import pandas as pd\n",
    "from scipy.sparse import csr_matrix\n",
    "\n",
    "import implicit\n",
    "\n",
    "import warnings\n",
    "warnings.simplefilter(action='ignore', category=FutureWarning)"
   ]
  },
  {
   "cell_type": "markdown",
   "metadata": {},
   "source": [
    "### Paso 2: Cargando los datos\n"
   ]
  },
  {
   "cell_type": "code",
   "execution_count": 2,
   "metadata": {},
   "outputs": [],
   "source": [
    "ratings = pd.read_csv(\"reviews_with_user_id.csv\")\n",
    "hotels = pd.read_csv(\"hotel_info_eu.csv\")"
   ]
  },
  {
   "cell_type": "code",
   "execution_count": 5,
   "metadata": {},
   "outputs": [
    {
     "data": {
      "text/html": [
       "<div>\n",
       "<style scoped>\n",
       "    .dataframe tbody tr th:only-of-type {\n",
       "        vertical-align: middle;\n",
       "    }\n",
       "\n",
       "    .dataframe tbody tr th {\n",
       "        vertical-align: top;\n",
       "    }\n",
       "\n",
       "    .dataframe thead th {\n",
       "        text-align: right;\n",
       "    }\n",
       "</style>\n",
       "<table border=\"1\" class=\"dataframe\">\n",
       "  <thead>\n",
       "    <tr style=\"text-align: right;\">\n",
       "      <th></th>\n",
       "      <th>user_id</th>\n",
       "      <th>hotel_id</th>\n",
       "      <th>Hotel_Name</th>\n",
       "      <th>Hotel_Address</th>\n",
       "      <th>Reviewer_Nationality</th>\n",
       "      <th>Negative_Review</th>\n",
       "      <th>Positive_Review</th>\n",
       "      <th>Reviewer_Score</th>\n",
       "      <th>Review_Date</th>\n",
       "      <th>given_reviews</th>\n",
       "    </tr>\n",
       "  </thead>\n",
       "  <tbody>\n",
       "    <tr>\n",
       "      <th>0</th>\n",
       "      <td>1</td>\n",
       "      <td>831</td>\n",
       "      <td>H10 Itaca</td>\n",
       "      <td>Avenida Roma 22 30 Eixample 08015 Barcelona Spain</td>\n",
       "      <td>United Arab Emirates</td>\n",
       "      <td>No variety in the breakfast buffet as we can ...</td>\n",
       "      <td>The staff ate very friendly and the location ...</td>\n",
       "      <td>5.4</td>\n",
       "      <td>9/8/2015</td>\n",
       "      <td>3</td>\n",
       "    </tr>\n",
       "    <tr>\n",
       "      <th>1</th>\n",
       "      <td>2</td>\n",
       "      <td>913</td>\n",
       "      <td>Jaz Amsterdam</td>\n",
       "      <td>De Passage 90 Noord Holland Zuidoost 1101 AX A...</td>\n",
       "      <td>United Arab Emirates</td>\n",
       "      <td>nothing</td>\n",
       "      <td>bedroom decoration and facilities were great</td>\n",
       "      <td>9.6</td>\n",
       "      <td>6/1/2016</td>\n",
       "      <td>4</td>\n",
       "    </tr>\n",
       "    <tr>\n",
       "      <th>2</th>\n",
       "      <td>3</td>\n",
       "      <td>1384</td>\n",
       "      <td>Hotel Manin</td>\n",
       "      <td>Via Manin 7 Milan City Center 20121 Milan Italy</td>\n",
       "      <td>South Africa</td>\n",
       "      <td>At reception not all the staff were courteous</td>\n",
       "      <td>Location</td>\n",
       "      <td>7.1</td>\n",
       "      <td>10/14/2015</td>\n",
       "      <td>1</td>\n",
       "    </tr>\n",
       "    <tr>\n",
       "      <th>3</th>\n",
       "      <td>4</td>\n",
       "      <td>77</td>\n",
       "      <td>11 Cadogan Gardens</td>\n",
       "      <td>11 Cadogan Gardens Sloane Square Kensington an...</td>\n",
       "      <td>United States of America</td>\n",
       "      <td>No Negative</td>\n",
       "      <td>Small boutique hotel with friendly staff in a...</td>\n",
       "      <td>10.0</td>\n",
       "      <td>12/21/2016</td>\n",
       "      <td>4</td>\n",
       "    </tr>\n",
       "    <tr>\n",
       "      <th>4</th>\n",
       "      <td>5</td>\n",
       "      <td>15</td>\n",
       "      <td>Crowne Plaza London Kings Cross</td>\n",
       "      <td>1 Kings Cross Road Islington London WC1X 9HX U...</td>\n",
       "      <td>United Kingdom</td>\n",
       "      <td>Extra charge to use swimming pool</td>\n",
       "      <td>Lovely room good breakfast</td>\n",
       "      <td>7.9</td>\n",
       "      <td>3/27/2016</td>\n",
       "      <td>1</td>\n",
       "    </tr>\n",
       "  </tbody>\n",
       "</table>\n",
       "</div>"
      ],
      "text/plain": [
       "   user_id  hotel_id                       Hotel_Name  \\\n",
       "0        1       831                        H10 Itaca   \n",
       "1        2       913                    Jaz Amsterdam   \n",
       "2        3      1384                      Hotel Manin   \n",
       "3        4        77               11 Cadogan Gardens   \n",
       "4        5        15  Crowne Plaza London Kings Cross   \n",
       "\n",
       "                                       Hotel_Address  \\\n",
       "0  Avenida Roma 22 30 Eixample 08015 Barcelona Spain   \n",
       "1  De Passage 90 Noord Holland Zuidoost 1101 AX A...   \n",
       "2    Via Manin 7 Milan City Center 20121 Milan Italy   \n",
       "3  11 Cadogan Gardens Sloane Square Kensington an...   \n",
       "4  1 Kings Cross Road Islington London WC1X 9HX U...   \n",
       "\n",
       "         Reviewer_Nationality  \\\n",
       "0       United Arab Emirates    \n",
       "1       United Arab Emirates    \n",
       "2               South Africa    \n",
       "3   United States of America    \n",
       "4             United Kingdom    \n",
       "\n",
       "                                     Negative_Review  \\\n",
       "0   No variety in the breakfast buffet as we can ...   \n",
       "1                                            nothing   \n",
       "2     At reception not all the staff were courteous    \n",
       "3                                        No Negative   \n",
       "4                  Extra charge to use swimming pool   \n",
       "\n",
       "                                     Positive_Review  Reviewer_Score  \\\n",
       "0   The staff ate very friendly and the location ...             5.4   \n",
       "1       bedroom decoration and facilities were great             9.6   \n",
       "2                                           Location             7.1   \n",
       "3   Small boutique hotel with friendly staff in a...            10.0   \n",
       "4                         Lovely room good breakfast             7.9   \n",
       "\n",
       "  Review_Date  given_reviews  \n",
       "0    9/8/2015              3  \n",
       "1    6/1/2016              4  \n",
       "2  10/14/2015              1  \n",
       "3  12/21/2016              4  \n",
       "4   3/27/2016              1  "
      ]
     },
     "execution_count": 5,
     "metadata": {},
     "output_type": "execute_result"
    }
   ],
   "source": [
    "# Remove columns from the DataFrame\n",
    "ratings = ratings.drop(columns=['Unnamed: 0', 'temp_id'])\n",
    "ratings.head()"
   ]
  },
  {
   "cell_type": "code",
   "execution_count": 4,
   "metadata": {},
   "outputs": [
    {
     "data": {
      "text/html": [
       "<div>\n",
       "<style scoped>\n",
       "    .dataframe tbody tr th:only-of-type {\n",
       "        vertical-align: middle;\n",
       "    }\n",
       "\n",
       "    .dataframe tbody tr th {\n",
       "        vertical-align: top;\n",
       "    }\n",
       "\n",
       "    .dataframe thead th {\n",
       "        text-align: right;\n",
       "    }\n",
       "</style>\n",
       "<table border=\"1\" class=\"dataframe\">\n",
       "  <thead>\n",
       "    <tr style=\"text-align: right;\">\n",
       "      <th></th>\n",
       "      <th>Unnamed: 0</th>\n",
       "      <th>hotel_id</th>\n",
       "      <th>hotel_country</th>\n",
       "      <th>Hotel_Name</th>\n",
       "      <th>Hotel_Address</th>\n",
       "    </tr>\n",
       "  </thead>\n",
       "  <tbody>\n",
       "    <tr>\n",
       "      <th>0</th>\n",
       "      <td>0</td>\n",
       "      <td>0</td>\n",
       "      <td>Netherlands</td>\n",
       "      <td>Hotel Arena</td>\n",
       "      <td>s Gravesandestraat 55 Oost 1092 AA Amsterdam ...</td>\n",
       "    </tr>\n",
       "    <tr>\n",
       "      <th>1</th>\n",
       "      <td>1</td>\n",
       "      <td>1</td>\n",
       "      <td>United Kingdom</td>\n",
       "      <td>K K Hotel George</td>\n",
       "      <td>1 15 Templeton Place Earl s Court Kensington a...</td>\n",
       "    </tr>\n",
       "    <tr>\n",
       "      <th>2</th>\n",
       "      <td>2</td>\n",
       "      <td>2</td>\n",
       "      <td>United Kingdom</td>\n",
       "      <td>Apex Temple Court Hotel</td>\n",
       "      <td>1 2 Serjeant s Inn Fleet Street City of London...</td>\n",
       "    </tr>\n",
       "    <tr>\n",
       "      <th>3</th>\n",
       "      <td>3</td>\n",
       "      <td>3</td>\n",
       "      <td>United Kingdom</td>\n",
       "      <td>The Park Grand London Paddington</td>\n",
       "      <td>1 3 Queens Garden Westminster Borough London W...</td>\n",
       "    </tr>\n",
       "    <tr>\n",
       "      <th>4</th>\n",
       "      <td>4</td>\n",
       "      <td>4</td>\n",
       "      <td>France</td>\n",
       "      <td>Monhotel Lounge SPA</td>\n",
       "      <td>1 3 Rue d Argentine 16th arr 75116 Paris France</td>\n",
       "    </tr>\n",
       "  </tbody>\n",
       "</table>\n",
       "</div>"
      ],
      "text/plain": [
       "   Unnamed: 0  hotel_id   hotel_country                        Hotel_Name  \\\n",
       "0           0         0     Netherlands                       Hotel Arena   \n",
       "1           1         1  United Kingdom                  K K Hotel George   \n",
       "2           2         2  United Kingdom           Apex Temple Court Hotel   \n",
       "3           3         3  United Kingdom  The Park Grand London Paddington   \n",
       "4           4         4          France               Monhotel Lounge SPA   \n",
       "\n",
       "                                       Hotel_Address  \n",
       "0   s Gravesandestraat 55 Oost 1092 AA Amsterdam ...  \n",
       "1  1 15 Templeton Place Earl s Court Kensington a...  \n",
       "2  1 2 Serjeant s Inn Fleet Street City of London...  \n",
       "3  1 3 Queens Garden Westminster Borough London W...  \n",
       "4    1 3 Rue d Argentine 16th arr 75116 Paris France  "
      ]
     },
     "execution_count": 4,
     "metadata": {},
     "output_type": "execute_result"
    }
   ],
   "source": [
    "#hotels = hotels.drop(columns=['Unnamed: 0'])\n",
    "hotels.head()"
   ]
  },
  {
   "cell_type": "markdown",
   "metadata": {},
   "source": [
    "### Paso 3: Transformando los datos\n"
   ]
  },
  {
   "cell_type": "code",
   "execution_count": 10,
   "metadata": {},
   "outputs": [],
   "source": [
    "def create_X(df: pd.DataFrame):\n",
    "    \"\"\"\n",
    "    Generates a sparse matrix from ratings dataframe.\n",
    "    \n",
    "    Args:\n",
    "        df: pandas dataframe\n",
    "    \n",
    "    Returns:\n",
    "        X: sparse matrix\n",
    "        user_mapper: dict that maps user id's to user indices\n",
    "        user_inv_mapper: dict that maps user indices to user id's\n",
    "        hotel_mapper: dict that maps movie id's to movie indices\n",
    "        hotel_inv_mapper: dict that maps movie indices to movie id's\n",
    "    \"\"\"\n",
    "    N = df['user_id'].nunique()\n",
    "    M = df['user_id'].nunique()\n",
    "\n",
    "    user_mapper = dict(zip(np.unique(df[\"user_id\"]), list(range(N))))\n",
    "    hotel_mapper = dict(zip(np.unique(df[\"hotel_id\"]), list(range(M))))\n",
    "    \n",
    "    user_inv_mapper = dict(zip(list(range(N)), np.unique(df[\"user_id\"])))\n",
    "    hotel_inv_mapper = dict(zip(list(range(M)), np.unique(df[\"hotel_id\"])))\n",
    "    \n",
    "    user_index = [user_mapper[i] for i in df['user_id']]\n",
    "    hotel_index = [hotel_mapper[i] for i in df['hotel_id']]\n",
    "\n",
    "    X = csr_matrix((df[\"Reviewer_Score\"], (hotel_index, user_index)), shape=(M, N))\n",
    "    \n",
    "    return X, user_mapper, hotel_mapper, user_inv_mapper, hotel_inv_mapper"
   ]
  },
  {
   "cell_type": "code",
   "execution_count": 11,
   "metadata": {},
   "outputs": [],
   "source": [
    "X, user_mapper, hotel_mapper, user_inv_mapper, hotel_inv_mapper = create_X(ratings)"
   ]
  },
  {
   "cell_type": "code",
   "execution_count": 12,
   "metadata": {},
   "outputs": [
    {
     "name": "stdout",
     "output_type": "stream",
     "text": [
      "Requirement already satisfied: fuzzywuzzy in /Users/feratus/opt/anaconda3/lib/python3.7/site-packages (0.18.0)\n",
      "Note: you may need to restart the kernel to use updated packages.\n"
     ]
    }
   ],
   "source": [
    "pip install fuzzywuzzy"
   ]
  },
  {
   "cell_type": "code",
   "execution_count": 14,
   "metadata": {},
   "outputs": [],
   "source": [
    "from fuzzywuzzy import process\n",
    "\n",
    "def hotel_finder(title):\n",
    "    all_titles = hotels['Hotel_Name'].tolist()\n",
    "    closest_match = process.extractOne(title, all_titles)\n",
    "    return closest_match[0]\n",
    "\n",
    "hotel_title_mapper = dict(zip(hotels['Hotel_Name'], hotels['hotel_id']))\n",
    "hotel_title_inv_mapper = dict(zip(hotels['hotel_id'], hotels['Hotel_Name']))\n",
    "\n",
    "def get_hotel_index(title):\n",
    "    fuzzy_title = hotel_finder(title)\n",
    "    movie_id = hotel_title_mapper[fuzzy_title]\n",
    "    movie_idx = hotel_mapper[movie_id]\n",
    "    return movie_idx\n",
    "\n",
    "def get_hotel_title(hotel_idx): \n",
    "    hotel_id = hotel_inv_mapper[hotel_idx]\n",
    "    title = hotel_title_inv_mapper[hotel_id]\n",
    "    return title "
   ]
  },
  {
   "cell_type": "code",
   "execution_count": 19,
   "metadata": {},
   "outputs": [
    {
     "name": "stdout",
     "output_type": "stream",
     "text": [
      "Monhotel Lounge SPA\n"
     ]
    }
   ],
   "source": [
    "hotel_index = get_hotel_index('Monhotel')\n",
    "hotel_name = get_hotel_title(hotel_index)\n",
    "print(hotel_name)"
   ]
  },
  {
   "cell_type": "markdown",
   "metadata": {},
   "source": [
    "### Paso 4: Construyendo el modelo de modelo de Recomendacion de Feedback Implicito"
   ]
  },
  {
   "cell_type": "code",
   "execution_count": 17,
   "metadata": {},
   "outputs": [
    {
     "name": "stderr",
     "output_type": "stream",
     "text": [
      "/Users/feratus/opt/anaconda3/lib/python3.7/site-packages/implicit/cpu/als.py:95: RuntimeWarning: Intel MKL BLAS is configured to use 2 threads. It is highly recommended to disable its internal threadpool by setting the environment variable 'MKL_NUM_THREADS=1' or by callng 'threadpoolctl.threadpool_limits(1, \"blas\")'. Having MKL use a threadpool can lead to severe performance issues\n",
      "  check_blas_config()\n"
     ]
    }
   ],
   "source": [
    "model = implicit.als.AlternatingLeastSquares(factors=50)"
   ]
  },
  {
   "cell_type": "code",
   "execution_count": 18,
   "metadata": {},
   "outputs": [
    {
     "name": "stderr",
     "output_type": "stream",
     "text": [
      "100%|██████████| 15/15 [00:09<00:00,  1.56it/s]\n"
     ]
    }
   ],
   "source": [
    "model.fit(X.T.tocsr())"
   ]
  },
  {
   "cell_type": "code",
   "execution_count": 20,
   "metadata": {},
   "outputs": [
    {
     "data": {
      "text/plain": [
       "(array([ 4,  5,  1,  2, 10, 11,  9,  0, 12,  8], dtype=int32),\n",
       " array([1.        , 0.98986036, 0.9251524 , 0.9019392 , 0.88701075,\n",
       "        0.8862056 , 0.8759067 , 0.87510616, 0.8668109 , 0.8657092 ],\n",
       "       dtype=float32))"
      ]
     },
     "execution_count": 20,
     "metadata": {},
     "output_type": "execute_result"
    }
   ],
   "source": [
    "hotel_of_interest = 'Monhotel'\n",
    "\n",
    "hotel_index = get_hotel_index(hotel_of_interest)\n",
    "related = model.similar_items(hotel_index)\n",
    "related"
   ]
  },
  {
   "cell_type": "code",
   "execution_count": 21,
   "metadata": {},
   "outputs": [
    {
     "name": "stdout",
     "output_type": "stream",
     "text": [
      "Por que te hopedaste en el hotel Monhotel Lounge SPA te pueden interesar los siguientes hoteles:\n",
      "Kube Hotel Ice Bar\n",
      "K K Hotel George\n",
      "Apex Temple Court Hotel\n",
      "Hotel Trianon Rive Gauche\n",
      "InterContinental London Park Lane\n",
      "Splendid Etoile\n",
      "Hotel Arena\n",
      "Novotel Suites Paris Nord 18 me\n",
      "One Aldwych\n"
     ]
    }
   ],
   "source": [
    "print(f\"Por que te hospedaste en el hotel {hotel_finder(hotel_of_interest)} te pueden interesar los siguientes hoteles:\")\n",
    "for t, r in zip(related[0], related[1]):\n",
    "    \n",
    "    recommended_hotel = get_hotel_title(t)\n",
    "    if recommended_hotel != hotel_finder(hotel_of_interest):\n",
    "        print(recommended_hotel)\n",
    "\n"
   ]
  },
  {
   "cell_type": "markdown",
   "metadata": {},
   "source": [
    "### Paso 5: Generando las recomendaciones del usuario"
   ]
  },
  {
   "cell_type": "code",
   "execution_count": 22,
   "metadata": {},
   "outputs": [],
   "source": [
    "user_id = 90"
   ]
  },
  {
   "cell_type": "code",
   "execution_count": 24,
   "metadata": {},
   "outputs": [
    {
     "name": "stdout",
     "output_type": "stream",
     "text": [
      "El numero de hoteles rankeados por el usuario 90 es de: 10\n"
     ]
    }
   ],
   "source": [
    "user_ratings = ratings[ratings['user_id']==user_id].merge(hotels[['hotel_id', 'Hotel_Name', 'hotel_country']])\n",
    "user_ratings = user_ratings.sort_values('Reviewer_Score', ascending=False)\n",
    "print(f\"El numero de hoteles rankeados por el usuario {user_id} es de: {user_ratings['hotel_id'].nunique()}\")"
   ]
  },
  {
   "cell_type": "code",
   "execution_count": 26,
   "metadata": {},
   "outputs": [
    {
     "data": {
      "text/html": [
       "<div>\n",
       "<style scoped>\n",
       "    .dataframe tbody tr th:only-of-type {\n",
       "        vertical-align: middle;\n",
       "    }\n",
       "\n",
       "    .dataframe tbody tr th {\n",
       "        vertical-align: top;\n",
       "    }\n",
       "\n",
       "    .dataframe thead th {\n",
       "        text-align: right;\n",
       "    }\n",
       "</style>\n",
       "<table border=\"1\" class=\"dataframe\">\n",
       "  <thead>\n",
       "    <tr style=\"text-align: right;\">\n",
       "      <th></th>\n",
       "      <th>user_id</th>\n",
       "      <th>hotel_id</th>\n",
       "      <th>Reviewer_Nationality</th>\n",
       "      <th>Negative_Review</th>\n",
       "      <th>Positive_Review</th>\n",
       "      <th>Reviewer_Score</th>\n",
       "      <th>Review_Date</th>\n",
       "      <th>given_reviews</th>\n",
       "      <th>Hotel_Name</th>\n",
       "    </tr>\n",
       "  </thead>\n",
       "  <tbody>\n",
       "    <tr>\n",
       "      <th>3</th>\n",
       "      <td>90</td>\n",
       "      <td>35</td>\n",
       "      <td>Slovenia</td>\n",
       "      <td></td>\n",
       "      <td>Super quiet room well designed good wifi nesp...</td>\n",
       "      <td>10.0</td>\n",
       "      <td>2/16/2017</td>\n",
       "      <td>31</td>\n",
       "      <td>The Nadler Soho</td>\n",
       "    </tr>\n",
       "    <tr>\n",
       "      <th>9</th>\n",
       "      <td>90</td>\n",
       "      <td>47</td>\n",
       "      <td>Slovenia</td>\n",
       "      <td>No Negative</td>\n",
       "      <td>The location was great The breakfast was also...</td>\n",
       "      <td>10.0</td>\n",
       "      <td>2/17/2017</td>\n",
       "      <td>15</td>\n",
       "      <td>Le Senat</td>\n",
       "    </tr>\n",
       "    <tr>\n",
       "      <th>10</th>\n",
       "      <td>90</td>\n",
       "      <td>51</td>\n",
       "      <td>Slovenia</td>\n",
       "      <td>Normal rooms are a bit small but that is Pari...</td>\n",
       "      <td>The location of the hotel is great Close by i...</td>\n",
       "      <td>10.0</td>\n",
       "      <td>8/11/2016</td>\n",
       "      <td>17</td>\n",
       "      <td>Les Plumes Hotel</td>\n",
       "    </tr>\n",
       "    <tr>\n",
       "      <th>7</th>\n",
       "      <td>90</td>\n",
       "      <td>41</td>\n",
       "      <td>Slovenia</td>\n",
       "      <td>Bed was to small queen size not king size Air...</td>\n",
       "      <td>Friendly staff fluent in English excellent co...</td>\n",
       "      <td>9.2</td>\n",
       "      <td>8/9/2015</td>\n",
       "      <td>9</td>\n",
       "      <td>Crowne Plaza Paris R publique</td>\n",
       "    </tr>\n",
       "    <tr>\n",
       "      <th>1</th>\n",
       "      <td>90</td>\n",
       "      <td>8</td>\n",
       "      <td>Slovenia</td>\n",
       "      <td>I would prefer a breakfast buffet Quality of ...</td>\n",
       "      <td>No Positive</td>\n",
       "      <td>8.8</td>\n",
       "      <td>11/30/2015</td>\n",
       "      <td>3</td>\n",
       "      <td>One Aldwych</td>\n",
       "    </tr>\n",
       "  </tbody>\n",
       "</table>\n",
       "</div>"
      ],
      "text/plain": [
       "    user_id  hotel_id Reviewer_Nationality  \\\n",
       "3        90        35            Slovenia    \n",
       "9        90        47            Slovenia    \n",
       "10       90        51            Slovenia    \n",
       "7        90        41            Slovenia    \n",
       "1        90         8            Slovenia    \n",
       "\n",
       "                                      Negative_Review  \\\n",
       "3                                                       \n",
       "9                                         No Negative   \n",
       "10   Normal rooms are a bit small but that is Pari...   \n",
       "7    Bed was to small queen size not king size Air...   \n",
       "1    I would prefer a breakfast buffet Quality of ...   \n",
       "\n",
       "                                      Positive_Review  Reviewer_Score  \\\n",
       "3    Super quiet room well designed good wifi nesp...            10.0   \n",
       "9    The location was great The breakfast was also...            10.0   \n",
       "10   The location of the hotel is great Close by i...            10.0   \n",
       "7    Friendly staff fluent in English excellent co...             9.2   \n",
       "1                                         No Positive             8.8   \n",
       "\n",
       "   Review_Date  given_reviews                     Hotel_Name  \n",
       "3    2/16/2017             31                The Nadler Soho  \n",
       "9    2/17/2017             15                       Le Senat  \n",
       "10   8/11/2016             17               Les Plumes Hotel  \n",
       "7     8/9/2015              9  Crowne Plaza Paris R publique  \n",
       "1   11/30/2015              3                    One Aldwych  "
      ]
     },
     "execution_count": 26,
     "metadata": {},
     "output_type": "execute_result"
    }
   ],
   "source": [
    "user_ratings = ratings[ratings['user_id']==user_id].merge(hotels[['hotel_id', 'Hotel_Name', 'hotel_country']])\n",
    "user_ratings = user_ratings.sort_values('Reviewer_Score', ascending=False)\n",
    "top_5 = user_ratings.head()\n",
    "top_5"
   ]
  },
  {
   "cell_type": "code",
   "execution_count": 28,
   "metadata": {},
   "outputs": [
    {
     "data": {
      "text/html": [
       "<div>\n",
       "<style scoped>\n",
       "    .dataframe tbody tr th:only-of-type {\n",
       "        vertical-align: middle;\n",
       "    }\n",
       "\n",
       "    .dataframe tbody tr th {\n",
       "        vertical-align: top;\n",
       "    }\n",
       "\n",
       "    .dataframe thead th {\n",
       "        text-align: right;\n",
       "    }\n",
       "</style>\n",
       "<table border=\"1\" class=\"dataframe\">\n",
       "  <thead>\n",
       "    <tr style=\"text-align: right;\">\n",
       "      <th></th>\n",
       "      <th>user_id</th>\n",
       "      <th>hotel_id</th>\n",
       "      <th>Reviewer_Nationality</th>\n",
       "      <th>Negative_Review</th>\n",
       "      <th>Positive_Review</th>\n",
       "      <th>Reviewer_Score</th>\n",
       "      <th>Review_Date</th>\n",
       "      <th>given_reviews</th>\n",
       "      <th>Hotel_Name</th>\n",
       "    </tr>\n",
       "  </thead>\n",
       "  <tbody>\n",
       "    <tr>\n",
       "      <th>0</th>\n",
       "      <td>90</td>\n",
       "      <td>0</td>\n",
       "      <td>Slovenia</td>\n",
       "      <td>The rooms could be more sound secure Lots of ...</td>\n",
       "      <td>The front desk where very kind and helpful</td>\n",
       "      <td>7.5</td>\n",
       "      <td>10/3/2016</td>\n",
       "      <td>12</td>\n",
       "      <td>Hotel Arena</td>\n",
       "    </tr>\n",
       "    <tr>\n",
       "      <th>2</th>\n",
       "      <td>90</td>\n",
       "      <td>23</td>\n",
       "      <td>Slovenia</td>\n",
       "      <td>Bathroom was old and uncomfortable Loud const...</td>\n",
       "      <td>Very good breakfast and lovelly breakfast are...</td>\n",
       "      <td>7.5</td>\n",
       "      <td>9/24/2016</td>\n",
       "      <td>4</td>\n",
       "      <td>Novotel London West</td>\n",
       "    </tr>\n",
       "    <tr>\n",
       "      <th>5</th>\n",
       "      <td>90</td>\n",
       "      <td>39</td>\n",
       "      <td>Slovenia</td>\n",
       "      <td>Small room and small bathroom not better than...</td>\n",
       "      <td>Clean and excellent location</td>\n",
       "      <td>7.5</td>\n",
       "      <td>3/5/2016</td>\n",
       "      <td>1</td>\n",
       "      <td>The Nadler Victoria</td>\n",
       "    </tr>\n",
       "    <tr>\n",
       "      <th>4</th>\n",
       "      <td>90</td>\n",
       "      <td>36</td>\n",
       "      <td>Slovenia</td>\n",
       "      <td>Staff students with no energie in hotel bar a...</td>\n",
       "      <td>Nice room with a lot of equiptment You get a ...</td>\n",
       "      <td>7.1</td>\n",
       "      <td>12/26/2015</td>\n",
       "      <td>1</td>\n",
       "      <td>Grange St Paul s Hotel</td>\n",
       "    </tr>\n",
       "    <tr>\n",
       "      <th>11</th>\n",
       "      <td>90</td>\n",
       "      <td>56</td>\n",
       "      <td>Slovenia</td>\n",
       "      <td>The staff did not feel very relaxed and welco...</td>\n",
       "      <td>Comfortable bed</td>\n",
       "      <td>6.7</td>\n",
       "      <td>12/15/2015</td>\n",
       "      <td>4</td>\n",
       "      <td>Pullman London St Pancras</td>\n",
       "    </tr>\n",
       "  </tbody>\n",
       "</table>\n",
       "</div>"
      ],
      "text/plain": [
       "    user_id  hotel_id Reviewer_Nationality  \\\n",
       "0        90         0            Slovenia    \n",
       "2        90        23            Slovenia    \n",
       "5        90        39            Slovenia    \n",
       "4        90        36            Slovenia    \n",
       "11       90        56            Slovenia    \n",
       "\n",
       "                                      Negative_Review  \\\n",
       "0    The rooms could be more sound secure Lots of ...   \n",
       "2    Bathroom was old and uncomfortable Loud const...   \n",
       "5    Small room and small bathroom not better than...   \n",
       "4    Staff students with no energie in hotel bar a...   \n",
       "11   The staff did not feel very relaxed and welco...   \n",
       "\n",
       "                                      Positive_Review  Reviewer_Score  \\\n",
       "0         The front desk where very kind and helpful              7.5   \n",
       "2    Very good breakfast and lovelly breakfast are...             7.5   \n",
       "5                       Clean and excellent location              7.5   \n",
       "4    Nice room with a lot of equiptment You get a ...             7.1   \n",
       "11                                   Comfortable bed              6.7   \n",
       "\n",
       "   Review_Date  given_reviews                 Hotel_Name  \n",
       "0    10/3/2016             12                Hotel Arena  \n",
       "2    9/24/2016              4        Novotel London West  \n",
       "5     3/5/2016              1        The Nadler Victoria  \n",
       "4   12/26/2015              1     Grange St Paul s Hotel  \n",
       "11  12/15/2015              4  Pullman London St Pancras  "
      ]
     },
     "execution_count": 28,
     "metadata": {},
     "output_type": "execute_result"
    }
   ],
   "source": [
    "bottom_5 = user_ratings[user_ratings['Reviewer_Score']<8].tail()\n",
    "bottom_5"
   ]
  },
  {
   "cell_type": "markdown",
   "metadata": {},
   "source": [
    "A partir de las preferencias anteriores, podemos inferir algo acerca del usuario 90. Veamos que recomendaciones se pueden generar para este usuario en particular.\n",
    "\n",
    "Utilizaremos `recommend()` que utiliza el indice del usuario y lo transpone con la matriz user-item."
   ]
  },
  {
   "cell_type": "code",
   "execution_count": 29,
   "metadata": {},
   "outputs": [
    {
     "data": {
      "text/plain": [
       "(array([37, 40, 54,  7, 58, 31, 32, 26, 27, 57], dtype=int32),\n",
       " array([0.87365365, 0.8357782 , 0.74676883, 0.6822851 , 0.6731199 ,\n",
       "        0.67127436, 0.6454601 , 0.6310118 , 0.62272614, 0.6072975 ],\n",
       "       dtype=float32))"
      ]
     },
     "execution_count": 29,
     "metadata": {},
     "output_type": "execute_result"
    }
   ],
   "source": [
    "X_t = X.T.tocsr()\n",
    "user_idx = user_mapper[user_id]\n",
    "recommendations = model.recommend(user_idx, X_t[user_idx])\n",
    "recommendations"
   ]
  },
  {
   "cell_type": "markdown",
   "metadata": {},
   "source": [
    "Hagamos una conversion del indice al nombre de los hoteles recomendados."
   ]
  },
  {
   "cell_type": "code",
   "execution_count": 31,
   "metadata": {},
   "outputs": [
    {
     "name": "stdout",
     "output_type": "stream",
     "text": [
      "The Ampersand Hotel\n",
      "Novotel London Tower Bridge\n",
      "W London Leicester Square\n",
      "Park Plaza County Hall London\n",
      "Doubletree by Hilton London Kensington\n",
      "Knightsbridge Hotel\n",
      "The London EDITION\n",
      "H tel Juliana Paris\n",
      "Hotel L Antoine\n",
      "Crowne Plaza London Kensington\n"
     ]
    }
   ],
   "source": [
    "for t, r in zip(recommendations[0], recommendations[1]):\n",
    "    recommended_hotel = get_hotel_title(t)\n",
    "    print(recommended_hotel)"
   ]
  }
 ],
 "metadata": {
  "kernelspec": {
   "display_name": "base",
   "language": "python",
   "name": "python3"
  },
  "language_info": {
   "codemirror_mode": {
    "name": "ipython",
    "version": 3
   },
   "file_extension": ".py",
   "mimetype": "text/x-python",
   "name": "python",
   "nbconvert_exporter": "python",
   "pygments_lexer": "ipython3",
   "version": "3.7.6"
  }
 },
 "nbformat": 4,
 "nbformat_minor": 2
}
