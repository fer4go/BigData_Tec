{
 "cells": [
  {
   "cell_type": "markdown",
   "metadata": {},
   "source": [
    "\n",
    "## Parte 1: Sistema de Recomendación"
   ]
  },
  {
   "cell_type": "markdown",
   "metadata": {},
   "source": [
    "\n",
    "### Librerías\n"
   ]
  },
  {
   "cell_type": "code",
   "execution_count": 1,
   "metadata": {},
   "outputs": [],
   "source": [
    "import numpy as np\n",
    "import pandas as pd\n",
    "import sklearn\n",
    "import matplotlib.pyplot as plt\n",
    "import seaborn as sns\n",
    "import scipy\n",
    "\n",
    "from collections import Counter\n"
   ]
  },
  {
   "cell_type": "markdown",
   "metadata": {},
   "source": [
    "### Carga de los datos\n"
   ]
  },
  {
   "cell_type": "code",
   "execution_count": 5,
   "metadata": {},
   "outputs": [],
   "source": [
    "hotels = pd.read_csv(\"DataBases/hotels_info_eu.csv\")\n",
    "ratings = pd.read_csv(\"DataBases/reviews_eu_with_user_id.csv\")\n"
   ]
  },
  {
   "cell_type": "code",
   "execution_count": 10,
   "metadata": {},
   "outputs": [
    {
     "data": {
      "text/html": [
       "<div>\n",
       "<style scoped>\n",
       "    .dataframe tbody tr th:only-of-type {\n",
       "        vertical-align: middle;\n",
       "    }\n",
       "\n",
       "    .dataframe tbody tr th {\n",
       "        vertical-align: top;\n",
       "    }\n",
       "\n",
       "    .dataframe thead th {\n",
       "        text-align: right;\n",
       "    }\n",
       "</style>\n",
       "<table border=\"1\" class=\"dataframe\">\n",
       "  <thead>\n",
       "    <tr style=\"text-align: right;\">\n",
       "      <th></th>\n",
       "      <th>hotel_id</th>\n",
       "      <th>hotel_country</th>\n",
       "      <th>Hotel_Name</th>\n",
       "      <th>Hotel_Address</th>\n",
       "    </tr>\n",
       "  </thead>\n",
       "  <tbody>\n",
       "    <tr>\n",
       "      <th>0</th>\n",
       "      <td>0</td>\n",
       "      <td>Netherlands</td>\n",
       "      <td>Hotel Arena</td>\n",
       "      <td>s Gravesandestraat 55 Oost 1092 AA Amsterdam ...</td>\n",
       "    </tr>\n",
       "    <tr>\n",
       "      <th>1</th>\n",
       "      <td>1</td>\n",
       "      <td>United Kingdom</td>\n",
       "      <td>K K Hotel George</td>\n",
       "      <td>1 15 Templeton Place Earl s Court Kensington a...</td>\n",
       "    </tr>\n",
       "    <tr>\n",
       "      <th>2</th>\n",
       "      <td>2</td>\n",
       "      <td>United Kingdom</td>\n",
       "      <td>Apex Temple Court Hotel</td>\n",
       "      <td>1 2 Serjeant s Inn Fleet Street City of London...</td>\n",
       "    </tr>\n",
       "    <tr>\n",
       "      <th>3</th>\n",
       "      <td>3</td>\n",
       "      <td>United Kingdom</td>\n",
       "      <td>The Park Grand London Paddington</td>\n",
       "      <td>1 3 Queens Garden Westminster Borough London W...</td>\n",
       "    </tr>\n",
       "    <tr>\n",
       "      <th>4</th>\n",
       "      <td>4</td>\n",
       "      <td>France</td>\n",
       "      <td>Monhotel Lounge SPA</td>\n",
       "      <td>1 3 Rue d Argentine 16th arr 75116 Paris France</td>\n",
       "    </tr>\n",
       "  </tbody>\n",
       "</table>\n",
       "</div>"
      ],
      "text/plain": [
       "   hotel_id   hotel_country                        Hotel_Name  \\\n",
       "0         0     Netherlands                       Hotel Arena   \n",
       "1         1  United Kingdom                  K K Hotel George   \n",
       "2         2  United Kingdom           Apex Temple Court Hotel   \n",
       "3         3  United Kingdom  The Park Grand London Paddington   \n",
       "4         4          France               Monhotel Lounge SPA   \n",
       "\n",
       "                                       Hotel_Address  \n",
       "0   s Gravesandestraat 55 Oost 1092 AA Amsterdam ...  \n",
       "1  1 15 Templeton Place Earl s Court Kensington a...  \n",
       "2  1 2 Serjeant s Inn Fleet Street City of London...  \n",
       "3  1 3 Queens Garden Westminster Borough London W...  \n",
       "4    1 3 Rue d Argentine 16th arr 75116 Paris France  "
      ]
     },
     "execution_count": 10,
     "metadata": {},
     "output_type": "execute_result"
    }
   ],
   "source": [
    "hotels = hotels.drop(columns=['Unnamed: 0'])\n",
    "hotels.head()"
   ]
  },
  {
   "cell_type": "code",
   "execution_count": 9,
   "metadata": {},
   "outputs": [
    {
     "data": {
      "text/html": [
       "<div>\n",
       "<style scoped>\n",
       "    .dataframe tbody tr th:only-of-type {\n",
       "        vertical-align: middle;\n",
       "    }\n",
       "\n",
       "    .dataframe tbody tr th {\n",
       "        vertical-align: top;\n",
       "    }\n",
       "\n",
       "    .dataframe thead th {\n",
       "        text-align: right;\n",
       "    }\n",
       "</style>\n",
       "<table border=\"1\" class=\"dataframe\">\n",
       "  <thead>\n",
       "    <tr style=\"text-align: right;\">\n",
       "      <th></th>\n",
       "      <th>user_id</th>\n",
       "      <th>hotel_id</th>\n",
       "      <th>Hotel_Name</th>\n",
       "      <th>Hotel_Address</th>\n",
       "      <th>Reviewer_Nationality</th>\n",
       "      <th>Negative_Review</th>\n",
       "      <th>Positive_Review</th>\n",
       "      <th>Reviewer_Score</th>\n",
       "      <th>Review_Date</th>\n",
       "      <th>given_reviews</th>\n",
       "    </tr>\n",
       "  </thead>\n",
       "  <tbody>\n",
       "    <tr>\n",
       "      <th>0</th>\n",
       "      <td>1</td>\n",
       "      <td>831</td>\n",
       "      <td>H10 Itaca</td>\n",
       "      <td>Avenida Roma 22 30 Eixample 08015 Barcelona Spain</td>\n",
       "      <td>United Arab Emirates</td>\n",
       "      <td>No variety in the breakfast buffet as we can ...</td>\n",
       "      <td>The staff ate very friendly and the location ...</td>\n",
       "      <td>5.4</td>\n",
       "      <td>9/8/2015</td>\n",
       "      <td>3</td>\n",
       "    </tr>\n",
       "    <tr>\n",
       "      <th>1</th>\n",
       "      <td>2</td>\n",
       "      <td>913</td>\n",
       "      <td>Jaz Amsterdam</td>\n",
       "      <td>De Passage 90 Noord Holland Zuidoost 1101 AX A...</td>\n",
       "      <td>United Arab Emirates</td>\n",
       "      <td>nothing</td>\n",
       "      <td>bedroom decoration and facilities were great</td>\n",
       "      <td>9.6</td>\n",
       "      <td>6/1/2016</td>\n",
       "      <td>4</td>\n",
       "    </tr>\n",
       "    <tr>\n",
       "      <th>2</th>\n",
       "      <td>3</td>\n",
       "      <td>1384</td>\n",
       "      <td>Hotel Manin</td>\n",
       "      <td>Via Manin 7 Milan City Center 20121 Milan Italy</td>\n",
       "      <td>South Africa</td>\n",
       "      <td>At reception not all the staff were courteous</td>\n",
       "      <td>Location</td>\n",
       "      <td>7.1</td>\n",
       "      <td>10/14/2015</td>\n",
       "      <td>1</td>\n",
       "    </tr>\n",
       "    <tr>\n",
       "      <th>3</th>\n",
       "      <td>4</td>\n",
       "      <td>77</td>\n",
       "      <td>11 Cadogan Gardens</td>\n",
       "      <td>11 Cadogan Gardens Sloane Square Kensington an...</td>\n",
       "      <td>United States of America</td>\n",
       "      <td>No Negative</td>\n",
       "      <td>Small boutique hotel with friendly staff in a...</td>\n",
       "      <td>10.0</td>\n",
       "      <td>12/21/2016</td>\n",
       "      <td>4</td>\n",
       "    </tr>\n",
       "    <tr>\n",
       "      <th>4</th>\n",
       "      <td>5</td>\n",
       "      <td>15</td>\n",
       "      <td>Crowne Plaza London Kings Cross</td>\n",
       "      <td>1 Kings Cross Road Islington London WC1X 9HX U...</td>\n",
       "      <td>United Kingdom</td>\n",
       "      <td>Extra charge to use swimming pool</td>\n",
       "      <td>Lovely room good breakfast</td>\n",
       "      <td>7.9</td>\n",
       "      <td>3/27/2016</td>\n",
       "      <td>1</td>\n",
       "    </tr>\n",
       "  </tbody>\n",
       "</table>\n",
       "</div>"
      ],
      "text/plain": [
       "   user_id  hotel_id                       Hotel_Name  \\\n",
       "0        1       831                        H10 Itaca   \n",
       "1        2       913                    Jaz Amsterdam   \n",
       "2        3      1384                      Hotel Manin   \n",
       "3        4        77               11 Cadogan Gardens   \n",
       "4        5        15  Crowne Plaza London Kings Cross   \n",
       "\n",
       "                                       Hotel_Address  \\\n",
       "0  Avenida Roma 22 30 Eixample 08015 Barcelona Spain   \n",
       "1  De Passage 90 Noord Holland Zuidoost 1101 AX A...   \n",
       "2    Via Manin 7 Milan City Center 20121 Milan Italy   \n",
       "3  11 Cadogan Gardens Sloane Square Kensington an...   \n",
       "4  1 Kings Cross Road Islington London WC1X 9HX U...   \n",
       "\n",
       "         Reviewer_Nationality  \\\n",
       "0       United Arab Emirates    \n",
       "1       United Arab Emirates    \n",
       "2               South Africa    \n",
       "3   United States of America    \n",
       "4             United Kingdom    \n",
       "\n",
       "                                     Negative_Review  \\\n",
       "0   No variety in the breakfast buffet as we can ...   \n",
       "1                                            nothing   \n",
       "2     At reception not all the staff were courteous    \n",
       "3                                        No Negative   \n",
       "4                  Extra charge to use swimming pool   \n",
       "\n",
       "                                     Positive_Review  Reviewer_Score  \\\n",
       "0   The staff ate very friendly and the location ...             5.4   \n",
       "1       bedroom decoration and facilities were great             9.6   \n",
       "2                                           Location             7.1   \n",
       "3   Small boutique hotel with friendly staff in a...            10.0   \n",
       "4                         Lovely room good breakfast             7.9   \n",
       "\n",
       "  Review_Date  given_reviews  \n",
       "0    9/8/2015              3  \n",
       "1    6/1/2016              4  \n",
       "2  10/14/2015              1  \n",
       "3  12/21/2016              4  \n",
       "4   3/27/2016              1  "
      ]
     },
     "execution_count": 9,
     "metadata": {},
     "output_type": "execute_result"
    }
   ],
   "source": [
    "# Remove columns from the DataFrame\n",
    "ratings = ratings.drop(columns=['Unnamed: 0', 'temp_id'])\n",
    "ratings.head()"
   ]
  },
  {
   "cell_type": "markdown",
   "metadata": {},
   "source": [
    "### Exploración y Anlálisis de los datos"
   ]
  },
  {
   "cell_type": "code",
   "execution_count": 17,
   "metadata": {},
   "outputs": [
    {
     "name": "stdout",
     "output_type": "stream",
     "text": [
      "Total de ratings: 515738\n",
      "Total de id's unicos de hoteles: 1494\n",
      "Total de usuarios unicos: 225255\n",
      "Promedio de ratings por usuario: 2.29\n",
      "Promedio de ratings por hotel: 345.21\n"
     ]
    }
   ],
   "source": [
    "n_ratings = len(ratings)\n",
    "n_hoteles = ratings['hotel_id'].nunique()\n",
    "n_usuarios = ratings['user_id'].nunique()\n",
    "\n",
    "print(f\"Total de ratings: {n_ratings}\")\n",
    "print(f\"Total de id's unicos de hoteles: {n_hoteles}\")\n",
    "print(f\"Total de usuarios unicos: {n_usuarios}\")\n",
    "print(f\"Promedio de ratings por usuario: {round(n_ratings/n_usuarios, 2)}\")\n",
    "print(f\"Promedio de ratings por hotel: {round(n_ratings/n_hoteles, 2)}\")"
   ]
  },
  {
   "cell_type": "code",
   "execution_count": 66,
   "metadata": {},
   "outputs": [
    {
     "name": "stdout",
     "output_type": "stream",
     "text": [
      "El máximo número de reseñans es 62, dados por el usuario 2392    2393\n",
      "Name: user_id, dtype: int64\n"
     ]
    },
    {
     "data": {
      "text/html": [
       "<div>\n",
       "<style scoped>\n",
       "    .dataframe tbody tr th:only-of-type {\n",
       "        vertical-align: middle;\n",
       "    }\n",
       "\n",
       "    .dataframe tbody tr th {\n",
       "        vertical-align: top;\n",
       "    }\n",
       "\n",
       "    .dataframe thead th {\n",
       "        text-align: right;\n",
       "    }\n",
       "</style>\n",
       "<table border=\"1\" class=\"dataframe\">\n",
       "  <thead>\n",
       "    <tr style=\"text-align: right;\">\n",
       "      <th></th>\n",
       "      <th>user_id</th>\n",
       "      <th>n_ratings</th>\n",
       "    </tr>\n",
       "  </thead>\n",
       "  <tbody>\n",
       "    <tr>\n",
       "      <th>0</th>\n",
       "      <td>1</td>\n",
       "      <td>3</td>\n",
       "    </tr>\n",
       "    <tr>\n",
       "      <th>1</th>\n",
       "      <td>2</td>\n",
       "      <td>4</td>\n",
       "    </tr>\n",
       "    <tr>\n",
       "      <th>2</th>\n",
       "      <td>3</td>\n",
       "      <td>1</td>\n",
       "    </tr>\n",
       "    <tr>\n",
       "      <th>3</th>\n",
       "      <td>4</td>\n",
       "      <td>4</td>\n",
       "    </tr>\n",
       "    <tr>\n",
       "      <th>4</th>\n",
       "      <td>5</td>\n",
       "      <td>1</td>\n",
       "    </tr>\n",
       "  </tbody>\n",
       "</table>\n",
       "</div>"
      ],
      "text/plain": [
       "   user_id  n_ratings\n",
       "0        1          3\n",
       "1        2          4\n",
       "2        3          1\n",
       "3        4          4\n",
       "4        5          1"
      ]
     },
     "execution_count": 66,
     "metadata": {},
     "output_type": "execute_result"
    }
   ],
   "source": [
    "user_freq = ratings[['user_id', 'hotel_id']].groupby('user_id').count().reset_index()\n",
    "user_freq.columns = ['user_id', 'n_ratings']\n",
    "print(f\"El máximo número de reseñans es {user_freq.n_ratings.max()}, dados por el usuario {user_freq[user_freq.n_ratings == user_freq.n_ratings.max()]['user_id']}\")\n",
    "user_freq.head()"
   ]
  },
  {
   "cell_type": "code",
   "execution_count": 67,
   "metadata": {},
   "outputs": [
    {
     "data": {
      "text/plain": [
       "2392    2393\n",
       "Name: user_id, dtype: int64"
      ]
     },
     "execution_count": 67,
     "metadata": {},
     "output_type": "execute_result"
    }
   ],
   "source": [
    "user_freq[user_freq.n_ratings == user_freq.n_ratings.max()].user_id"
   ]
  },
  {
   "cell_type": "code",
   "execution_count": 42,
   "metadata": {},
   "outputs": [
    {
     "name": "stdout",
     "output_type": "stream",
     "text": [
      "Número de ratings por usuario: 2.29.\n",
      "Máximo número de ratings dadios por un usuario: 355\n"
     ]
    }
   ],
   "source": [
    "print(f\"Número de ratings por usuario: {user_freq['n_ratings'].mean():.2f}.\")\n",
    "print(f\"Máximo número de ratings dadios por un usuario: {ratings['given_reviews'].max()}\")"
   ]
  },
  {
   "cell_type": "code",
   "execution_count": 63,
   "metadata": {},
   "outputs": [
    {
     "data": {
      "text/html": [
       "<div>\n",
       "<style scoped>\n",
       "    .dataframe tbody tr th:only-of-type {\n",
       "        vertical-align: middle;\n",
       "    }\n",
       "\n",
       "    .dataframe tbody tr th {\n",
       "        vertical-align: top;\n",
       "    }\n",
       "\n",
       "    .dataframe thead th {\n",
       "        text-align: right;\n",
       "    }\n",
       "</style>\n",
       "<table border=\"1\" class=\"dataframe\">\n",
       "  <thead>\n",
       "    <tr style=\"text-align: right;\">\n",
       "      <th></th>\n",
       "      <th>user_id</th>\n",
       "      <th>hotel_id</th>\n",
       "      <th>Hotel_Name</th>\n",
       "      <th>Hotel_Address</th>\n",
       "      <th>Reviewer_Nationality</th>\n",
       "      <th>Negative_Review</th>\n",
       "      <th>Positive_Review</th>\n",
       "      <th>Reviewer_Score</th>\n",
       "      <th>Review_Date</th>\n",
       "      <th>given_reviews</th>\n",
       "    </tr>\n",
       "  </thead>\n",
       "  <tbody>\n",
       "    <tr>\n",
       "      <th>4027</th>\n",
       "      <td>2393</td>\n",
       "      <td>847</td>\n",
       "      <td>Megaro Hotel</td>\n",
       "      <td>Belgrove Street Camden London WC1H 8AB United ...</td>\n",
       "      <td>United Kingdom</td>\n",
       "      <td>No complaints</td>\n",
       "      <td>Very convient for Kings X St Pancras Room was...</td>\n",
       "      <td>9.2</td>\n",
       "      <td>9/13/2015</td>\n",
       "      <td>62</td>\n",
       "    </tr>\n",
       "    <tr>\n",
       "      <th>8623</th>\n",
       "      <td>2393</td>\n",
       "      <td>849</td>\n",
       "      <td>AC Hotel Victoria Suites a Marriott Lifestyle ...</td>\n",
       "      <td>Beltran i R zpide 7 9 Les Corts 08034 Barcelon...</td>\n",
       "      <td>United Kingdom</td>\n",
       "      <td>The restaurant within the hotel was terrible ...</td>\n",
       "      <td>Close to Nou camp Very clean large Appartment...</td>\n",
       "      <td>8.3</td>\n",
       "      <td>3/6/2017</td>\n",
       "      <td>62</td>\n",
       "    </tr>\n",
       "    <tr>\n",
       "      <th>10026</th>\n",
       "      <td>2393</td>\n",
       "      <td>134</td>\n",
       "      <td>Sofitel Paris Arc De Triomphe</td>\n",
       "      <td>14 Rue Beaujon 8th arr 75008 Paris France</td>\n",
       "      <td>United Kingdom</td>\n",
       "      <td>150 supplement per night for fold down bed fo...</td>\n",
       "      <td>Location Luxurious Clean</td>\n",
       "      <td>8.3</td>\n",
       "      <td>4/5/2016</td>\n",
       "      <td>62</td>\n",
       "    </tr>\n",
       "    <tr>\n",
       "      <th>16598</th>\n",
       "      <td>2393</td>\n",
       "      <td>324</td>\n",
       "      <td>Hilton London Metropole</td>\n",
       "      <td>225 Edgware Road Westminster Borough London W2...</td>\n",
       "      <td>United Kingdom</td>\n",
       "      <td>Chicken sausages at breakfast were tough Love...</td>\n",
       "      <td>Very nice room and super comfortable bed I ha...</td>\n",
       "      <td>8.8</td>\n",
       "      <td>1/6/2017</td>\n",
       "      <td>62</td>\n",
       "    </tr>\n",
       "    <tr>\n",
       "      <th>29176</th>\n",
       "      <td>2393</td>\n",
       "      <td>1022</td>\n",
       "      <td>Fleming s Selection Hotel Wien City</td>\n",
       "      <td>Josefst dter Stra e 10 12 08 Josefstadt 1080 V...</td>\n",
       "      <td>United Kingdom</td>\n",
       "      <td>Not 5 star at all no better than a good 3 or ...</td>\n",
       "      <td>Not much</td>\n",
       "      <td>4.6</td>\n",
       "      <td>5/17/2017</td>\n",
       "      <td>62</td>\n",
       "    </tr>\n",
       "    <tr>\n",
       "      <th>...</th>\n",
       "      <td>...</td>\n",
       "      <td>...</td>\n",
       "      <td>...</td>\n",
       "      <td>...</td>\n",
       "      <td>...</td>\n",
       "      <td>...</td>\n",
       "      <td>...</td>\n",
       "      <td>...</td>\n",
       "      <td>...</td>\n",
       "      <td>...</td>\n",
       "    </tr>\n",
       "    <tr>\n",
       "      <th>431163</th>\n",
       "      <td>2393</td>\n",
       "      <td>148</td>\n",
       "      <td>Hilton London Paddington</td>\n",
       "      <td>146 Praed Street Westminster Borough London W2...</td>\n",
       "      <td>United Kingdom</td>\n",
       "      <td>No free wifi in the rooms cost 15 only free w...</td>\n",
       "      <td>Location right in Paddington station for trav...</td>\n",
       "      <td>9.2</td>\n",
       "      <td>4/8/2017</td>\n",
       "      <td>62</td>\n",
       "    </tr>\n",
       "    <tr>\n",
       "      <th>442537</th>\n",
       "      <td>2393</td>\n",
       "      <td>74</td>\n",
       "      <td>Holiday Inn Paris Gare de Lyon Bastille</td>\n",
       "      <td>11 15 Rue De Lyon 12th arr 75012 Paris France</td>\n",
       "      <td>United Kingdom</td>\n",
       "      <td>No Negative</td>\n",
       "      <td>Very convenient for Gare de Lyon station</td>\n",
       "      <td>9.6</td>\n",
       "      <td>8/24/2015</td>\n",
       "      <td>62</td>\n",
       "    </tr>\n",
       "    <tr>\n",
       "      <th>446516</th>\n",
       "      <td>2393</td>\n",
       "      <td>186</td>\n",
       "      <td>Britannia International Hotel Canary Wharf</td>\n",
       "      <td>163 Marsh Wall Docklands Tower Hamlets London ...</td>\n",
       "      <td>United Kingdom</td>\n",
       "      <td>The bed was very small and very uncomfortable...</td>\n",
       "      <td>Nice and central to Canary Wharf</td>\n",
       "      <td>7.1</td>\n",
       "      <td>10/15/2015</td>\n",
       "      <td>62</td>\n",
       "    </tr>\n",
       "    <tr>\n",
       "      <th>447936</th>\n",
       "      <td>2393</td>\n",
       "      <td>723</td>\n",
       "      <td>The Grand at Trafalgar Square</td>\n",
       "      <td>8 Northumberland Avenue Westminster Borough Lo...</td>\n",
       "      <td>United Kingdom</td>\n",
       "      <td>Nothing</td>\n",
       "      <td>Location</td>\n",
       "      <td>9.2</td>\n",
       "      <td>5/23/2017</td>\n",
       "      <td>62</td>\n",
       "    </tr>\n",
       "    <tr>\n",
       "      <th>461703</th>\n",
       "      <td>2393</td>\n",
       "      <td>815</td>\n",
       "      <td>Barcelona Princess</td>\n",
       "      <td>Avenida Diagonal 1 Sant Mart 08019 Barcelona S...</td>\n",
       "      <td>United Kingdom</td>\n",
       "      <td>Was all good</td>\n",
       "      <td>Very nice modern hotel Location a bit away fr...</td>\n",
       "      <td>9.2</td>\n",
       "      <td>3/6/2017</td>\n",
       "      <td>62</td>\n",
       "    </tr>\n",
       "  </tbody>\n",
       "</table>\n",
       "<p>62 rows × 10 columns</p>\n",
       "</div>"
      ],
      "text/plain": [
       "        user_id  hotel_id                                         Hotel_Name  \\\n",
       "4027       2393       847                                       Megaro Hotel   \n",
       "8623       2393       849  AC Hotel Victoria Suites a Marriott Lifestyle ...   \n",
       "10026      2393       134                      Sofitel Paris Arc De Triomphe   \n",
       "16598      2393       324                            Hilton London Metropole   \n",
       "29176      2393      1022                Fleming s Selection Hotel Wien City   \n",
       "...         ...       ...                                                ...   \n",
       "431163     2393       148                           Hilton London Paddington   \n",
       "442537     2393        74            Holiday Inn Paris Gare de Lyon Bastille   \n",
       "446516     2393       186         Britannia International Hotel Canary Wharf   \n",
       "447936     2393       723                      The Grand at Trafalgar Square   \n",
       "461703     2393       815                                 Barcelona Princess   \n",
       "\n",
       "                                            Hotel_Address  \\\n",
       "4027    Belgrove Street Camden London WC1H 8AB United ...   \n",
       "8623    Beltran i R zpide 7 9 Les Corts 08034 Barcelon...   \n",
       "10026           14 Rue Beaujon 8th arr 75008 Paris France   \n",
       "16598   225 Edgware Road Westminster Borough London W2...   \n",
       "29176   Josefst dter Stra e 10 12 08 Josefstadt 1080 V...   \n",
       "...                                                   ...   \n",
       "431163  146 Praed Street Westminster Borough London W2...   \n",
       "442537      11 15 Rue De Lyon 12th arr 75012 Paris France   \n",
       "446516  163 Marsh Wall Docklands Tower Hamlets London ...   \n",
       "447936  8 Northumberland Avenue Westminster Borough Lo...   \n",
       "461703  Avenida Diagonal 1 Sant Mart 08019 Barcelona S...   \n",
       "\n",
       "       Reviewer_Nationality  \\\n",
       "4027        United Kingdom    \n",
       "8623        United Kingdom    \n",
       "10026       United Kingdom    \n",
       "16598       United Kingdom    \n",
       "29176       United Kingdom    \n",
       "...                     ...   \n",
       "431163      United Kingdom    \n",
       "442537      United Kingdom    \n",
       "446516      United Kingdom    \n",
       "447936      United Kingdom    \n",
       "461703      United Kingdom    \n",
       "\n",
       "                                          Negative_Review  \\\n",
       "4027                                        No complaints   \n",
       "8623     The restaurant within the hotel was terrible ...   \n",
       "10026    150 supplement per night for fold down bed fo...   \n",
       "16598    Chicken sausages at breakfast were tough Love...   \n",
       "29176    Not 5 star at all no better than a good 3 or ...   \n",
       "...                                                   ...   \n",
       "431163   No free wifi in the rooms cost 15 only free w...   \n",
       "442537                                        No Negative   \n",
       "446516   The bed was very small and very uncomfortable...   \n",
       "447936                                            Nothing   \n",
       "461703                                       Was all good   \n",
       "\n",
       "                                          Positive_Review  Reviewer_Score  \\\n",
       "4027     Very convient for Kings X St Pancras Room was...             9.2   \n",
       "8623     Close to Nou camp Very clean large Appartment...             8.3   \n",
       "10026                            Location Luxurious Clean             8.3   \n",
       "16598    Very nice room and super comfortable bed I ha...             8.8   \n",
       "29176                                            Not much             4.6   \n",
       "...                                                   ...             ...   \n",
       "431163   Location right in Paddington station for trav...             9.2   \n",
       "442537           Very convenient for Gare de Lyon station             9.6   \n",
       "446516                   Nice and central to Canary Wharf             7.1   \n",
       "447936                                           Location             9.2   \n",
       "461703   Very nice modern hotel Location a bit away fr...             9.2   \n",
       "\n",
       "       Review_Date  given_reviews  \n",
       "4027     9/13/2015             62  \n",
       "8623      3/6/2017             62  \n",
       "10026     4/5/2016             62  \n",
       "16598     1/6/2017             62  \n",
       "29176    5/17/2017             62  \n",
       "...            ...            ...  \n",
       "431163    4/8/2017             62  \n",
       "442537   8/24/2015             62  \n",
       "446516  10/15/2015             62  \n",
       "447936   5/23/2017             62  \n",
       "461703    3/6/2017             62  \n",
       "\n",
       "[62 rows x 10 columns]"
      ]
     },
     "execution_count": 63,
     "metadata": {},
     "output_type": "execute_result"
    }
   ],
   "source": [
    "df_user = ratings[ratings.user_id == 2393]\n",
    "df_user"
   ]
  },
  {
   "cell_type": "code",
   "execution_count": 39,
   "metadata": {},
   "outputs": [
    {
     "data": {
      "image/png": "[encoded data removed]",
      "text/plain": [
       "<Figure size 1008x360 with 2 Axes>"
      ]
     },
     "metadata": {},
     "output_type": "display_data"
    }
   ],
   "source": [
    "sns.set_style(\"whitegrid\")\n",
    "plt.figure(figsize=(14,5))\n",
    "plt.subplot(1,2,1)\n",
    "ax = sns.countplot(x='Reviewer_Score',  data=ratings, palette=\"rocket\")\n",
    "#ax.set_xticks(np.arange(0, 10, step=2))\n",
    "plt.title(\"Distribucion de ratings para los hoteles\")\n",
    "\n",
    "plt.subplot(1,2,2)\n",
    "#ax = sns.kdeplot(user_freq['n_ratings'], fill=True, legend=False)\n",
    "ax = sns.kdeplot(user_freq['n_ratings'], legend=False)\n",
    "plt.axvline(user_freq['n_ratings'].mean(), color=\"k\", linestyle=\"--\")\n",
    "plt.xlabel(\"# ratings por usuario\")\n",
    "plt.ylabel(\"densidad\")\n",
    "plt.title(\"Numero de hoteles rankeados por usuario\")\n",
    "plt.show()"
   ]
  },
  {
   "cell_type": "markdown",
   "metadata": {},
   "source": [
    "La mayor cantidad de reseñas son positivas\n"
   ]
  },
  {
   "cell_type": "code",
   "execution_count": 82,
   "metadata": {},
   "outputs": [
    {
     "name": "stdout",
     "output_type": "stream",
     "text": [
      "El Hotel con el rating mas bajo: 5.121538461538461\n"
     ]
    },
    {
     "data": {
      "text/html": [
       "<div>\n",
       "<style scoped>\n",
       "    .dataframe tbody tr th:only-of-type {\n",
       "        vertical-align: middle;\n",
       "    }\n",
       "\n",
       "    .dataframe tbody tr th {\n",
       "        vertical-align: top;\n",
       "    }\n",
       "\n",
       "    .dataframe thead th {\n",
       "        text-align: right;\n",
       "    }\n",
       "</style>\n",
       "<table border=\"1\" class=\"dataframe\">\n",
       "  <thead>\n",
       "    <tr style=\"text-align: right;\">\n",
       "      <th></th>\n",
       "      <th>hotel_id</th>\n",
       "      <th>hotel_country</th>\n",
       "      <th>Hotel_Name</th>\n",
       "      <th>Hotel_Address</th>\n",
       "    </tr>\n",
       "  </thead>\n",
       "  <tbody>\n",
       "    <tr>\n",
       "      <th>1444</th>\n",
       "      <td>1444</td>\n",
       "      <td>Italy</td>\n",
       "      <td>Hotel Liberty</td>\n",
       "      <td>Viale Bligny 56 Milan City Center 20136 Milan ...</td>\n",
       "    </tr>\n",
       "  </tbody>\n",
       "</table>\n",
       "</div>"
      ],
      "text/plain": [
       "      hotel_id hotel_country     Hotel_Name  \\\n",
       "1444      1444         Italy  Hotel Liberty   \n",
       "\n",
       "                                          Hotel_Address  \n",
       "1444  Viale Bligny 56 Milan City Center 20136 Milan ...  "
      ]
     },
     "execution_count": 82,
     "metadata": {},
     "output_type": "execute_result"
    }
   ],
   "source": [
    "rating_media = ratings.groupby('hotel_id')[['Reviewer_Score']].mean()\n",
    "rating_bajo = rating_media['Reviewer_Score'].idxmin()\n",
    "\n",
    "print(f\"El Hotel con el rating mas bajo: {ratings[ratings.hotel_id == rating_bajo].Reviewer_Score.sum() / len(ratings[ratings.hotel_id == rating_bajo])}\")\n",
    "\n",
    "hotels.loc[hotels['hotel_id'] == rating_bajo]\n"
   ]
  },
  {
   "cell_type": "code",
   "execution_count": 83,
   "metadata": {},
   "outputs": [
    {
     "name": "stdout",
     "output_type": "stream",
     "text": [
      "El Hotel con el rating mas alto: 9.725\n"
     ]
    },
    {
     "data": {
      "text/html": [
       "<div>\n",
       "<style scoped>\n",
       "    .dataframe tbody tr th:only-of-type {\n",
       "        vertical-align: middle;\n",
       "    }\n",
       "\n",
       "    .dataframe tbody tr th {\n",
       "        vertical-align: top;\n",
       "    }\n",
       "\n",
       "    .dataframe thead th {\n",
       "        text-align: right;\n",
       "    }\n",
       "</style>\n",
       "<table border=\"1\" class=\"dataframe\">\n",
       "  <thead>\n",
       "    <tr style=\"text-align: right;\">\n",
       "      <th></th>\n",
       "      <th>hotel_id</th>\n",
       "      <th>hotel_country</th>\n",
       "      <th>Hotel_Name</th>\n",
       "      <th>Hotel_Address</th>\n",
       "    </tr>\n",
       "  </thead>\n",
       "  <tbody>\n",
       "    <tr>\n",
       "      <th>156</th>\n",
       "      <td>156</td>\n",
       "      <td>France</td>\n",
       "      <td>Ritz Paris</td>\n",
       "      <td>15 Place Vend me 1st arr 75001 Paris France</td>\n",
       "    </tr>\n",
       "  </tbody>\n",
       "</table>\n",
       "</div>"
      ],
      "text/plain": [
       "     hotel_id hotel_country  Hotel_Name  \\\n",
       "156       156        France  Ritz Paris   \n",
       "\n",
       "                                   Hotel_Address  \n",
       "156  15 Place Vend me 1st arr 75001 Paris France  "
      ]
     },
     "execution_count": 83,
     "metadata": {},
     "output_type": "execute_result"
    }
   ],
   "source": [
    "rating_alto = rating_media['Reviewer_Score'].idxmax()\n",
    "\n",
    "print(f\"El Hotel con el rating mas alto: {ratings[ratings.hotel_id == rating_alto].Reviewer_Score.sum() / len(ratings[ratings.hotel_id == rating_alto])}\")\n",
    "hotels.loc[hotels['hotel_id'] == rating_alto]"
   ]
  },
  {
   "cell_type": "code",
   "execution_count": 86,
   "metadata": {},
   "outputs": [
    {
     "name": "stdout",
     "output_type": "stream",
     "text": [
      "Reseñas altas: 28\n",
      "Reseñas bajas: 65\n"
     ]
    }
   ],
   "source": [
    "print(f\"Reseñas altas: {len(ratings[ratings['hotel_id']==rating_alto])}\")\n",
    "print(f\"Reseñas bajas: {len(ratings[ratings['hotel_id']==rating_bajo])}\")"
   ]
  },
  {
   "cell_type": "markdown",
   "metadata": {},
   "source": [
    "#### Promedio Bayesiano"
   ]
  },
  {
   "cell_type": "code",
   "execution_count": 120,
   "metadata": {},
   "outputs": [],
   "source": [
    "hotel_stats = ratings.groupby('hotel_id')[['Reviewer_Score']].agg(['count', 'mean'])\n",
    "hotel_stats.columns = hotel_stats.columns.droplevel()"
   ]
  },
  {
   "cell_type": "code",
   "execution_count": 121,
   "metadata": {},
   "outputs": [],
   "source": [
    "C = hotel_stats['count'].mean()\n",
    "m = hotel_stats['mean'].mean()\n",
    "\n",
    "def promedio_bayesiano(ratings):\n",
    "    promedio_bayesiano = (C*m+ratings.sum())/(C+ratings.count())\n",
    "    return promedio_bayesiano\n",
    "\n",
    "ratings_promedio_bayesiano = ratings.groupby('hotel_id')['Reviewer_Score'].agg(promedio_bayesiano).reset_index()\n",
    "ratings_promedio_bayesiano.columns = ['hotel_id', 'promedio_bayesiano']\n",
    "hotel_stats = hotel_stats.merge(ratings_promedio_bayesiano, on='hotel_id')"
   ]
  },
  {
   "cell_type": "code",
   "execution_count": 94,
   "metadata": {},
   "outputs": [
    {
     "data": {
      "text/html": [
       "<div>\n",
       "<style scoped>\n",
       "    .dataframe tbody tr th:only-of-type {\n",
       "        vertical-align: middle;\n",
       "    }\n",
       "\n",
       "    .dataframe tbody tr th {\n",
       "        vertical-align: top;\n",
       "    }\n",
       "\n",
       "    .dataframe thead th {\n",
       "        text-align: right;\n",
       "    }\n",
       "</style>\n",
       "<table border=\"1\" class=\"dataframe\">\n",
       "  <thead>\n",
       "    <tr style=\"text-align: right;\">\n",
       "      <th></th>\n",
       "      <th>hotel_id</th>\n",
       "      <th>count</th>\n",
       "      <th>mean</th>\n",
       "      <th>promedio_bayesiano</th>\n",
       "      <th>Hotel_Name</th>\n",
       "      <th>hotel_country</th>\n",
       "    </tr>\n",
       "  </thead>\n",
       "  <tbody>\n",
       "    <tr>\n",
       "      <th>25</th>\n",
       "      <td>25</td>\n",
       "      <td>2551</td>\n",
       "      <td>9.451196</td>\n",
       "      <td>9.334018</td>\n",
       "      <td>Intercontinental London The O2</td>\n",
       "      <td>United Kingdom</td>\n",
       "    </tr>\n",
       "    <tr>\n",
       "      <th>429</th>\n",
       "      <td>429</td>\n",
       "      <td>1113</td>\n",
       "      <td>9.368553</td>\n",
       "      <td>9.155387</td>\n",
       "      <td>Shangri La Hotel at The Shard London</td>\n",
       "      <td>United Kingdom</td>\n",
       "    </tr>\n",
       "    <tr>\n",
       "      <th>1290</th>\n",
       "      <td>1290</td>\n",
       "      <td>1837</td>\n",
       "      <td>9.266413</td>\n",
       "      <td>9.140127</td>\n",
       "      <td>Hotel Esther a</td>\n",
       "      <td>Netherlands</td>\n",
       "    </tr>\n",
       "    <tr>\n",
       "      <th>1399</th>\n",
       "      <td>1399</td>\n",
       "      <td>1052</td>\n",
       "      <td>9.339829</td>\n",
       "      <td>9.124453</td>\n",
       "      <td>Hotel Berna</td>\n",
       "      <td>Italy</td>\n",
       "    </tr>\n",
       "    <tr>\n",
       "      <th>1315</th>\n",
       "      <td>1315</td>\n",
       "      <td>785</td>\n",
       "      <td>9.391720</td>\n",
       "      <td>9.109614</td>\n",
       "      <td>Amba Hotel Charing Cross</td>\n",
       "      <td>United Kingdom</td>\n",
       "    </tr>\n",
       "  </tbody>\n",
       "</table>\n",
       "</div>"
      ],
      "text/plain": [
       "      hotel_id  count      mean  promedio_bayesiano  \\\n",
       "25          25   2551  9.451196            9.334018   \n",
       "429        429   1113  9.368553            9.155387   \n",
       "1290      1290   1837  9.266413            9.140127   \n",
       "1399      1399   1052  9.339829            9.124453   \n",
       "1315      1315    785  9.391720            9.109614   \n",
       "\n",
       "                                Hotel_Name   hotel_country  \n",
       "25          Intercontinental London The O2  United Kingdom  \n",
       "429   Shangri La Hotel at The Shard London  United Kingdom  \n",
       "1290                        Hotel Esther a     Netherlands  \n",
       "1399                           Hotel Berna           Italy  \n",
       "1315              Amba Hotel Charing Cross  United Kingdom  "
      ]
     },
     "execution_count": 94,
     "metadata": {},
     "output_type": "execute_result"
    }
   ],
   "source": [
    "hotel_stats = hotel_stats.merge(hotels[['hotel_id', 'Hotel_Name', 'hotel_country']])\n",
    "hotel_stats.sort_values('promedio_bayesiano', ascending=False).head()"
   ]
  },
  {
   "cell_type": "code",
   "execution_count": 109,
   "metadata": {},
   "outputs": [
    {
     "data": {
      "text/html": [
       "<div>\n",
       "<style scoped>\n",
       "    .dataframe tbody tr th:only-of-type {\n",
       "        vertical-align: middle;\n",
       "    }\n",
       "\n",
       "    .dataframe tbody tr th {\n",
       "        vertical-align: top;\n",
       "    }\n",
       "\n",
       "    .dataframe thead th {\n",
       "        text-align: right;\n",
       "    }\n",
       "</style>\n",
       "<table border=\"1\" class=\"dataframe\">\n",
       "  <thead>\n",
       "    <tr style=\"text-align: right;\">\n",
       "      <th></th>\n",
       "      <th>hotel_id</th>\n",
       "      <th>count</th>\n",
       "      <th>mean</th>\n",
       "      <th>promedio_bayesiano</th>\n",
       "      <th>Hotel_Name</th>\n",
       "      <th>hotel_country</th>\n",
       "    </tr>\n",
       "  </thead>\n",
       "  <tbody>\n",
       "    <tr>\n",
       "      <th>186</th>\n",
       "      <td>186</td>\n",
       "      <td>4789</td>\n",
       "      <td>6.826644</td>\n",
       "      <td>6.937010</td>\n",
       "      <td>Britannia International Hotel Canary Wharf</td>\n",
       "      <td>United Kingdom</td>\n",
       "    </tr>\n",
       "    <tr>\n",
       "      <th>707</th>\n",
       "      <td>707</td>\n",
       "      <td>920</td>\n",
       "      <td>6.442065</td>\n",
       "      <td>6.994861</td>\n",
       "      <td>Hotel Cavendish</td>\n",
       "      <td>United Kingdom</td>\n",
       "    </tr>\n",
       "    <tr>\n",
       "      <th>593</th>\n",
       "      <td>593</td>\n",
       "      <td>953</td>\n",
       "      <td>6.554355</td>\n",
       "      <td>7.063240</td>\n",
       "      <td>Commodore Hotel</td>\n",
       "      <td>United Kingdom</td>\n",
       "    </tr>\n",
       "    <tr>\n",
       "      <th>374</th>\n",
       "      <td>374</td>\n",
       "      <td>1273</td>\n",
       "      <td>6.736685</td>\n",
       "      <td>7.106042</td>\n",
       "      <td>Bloomsbury Palace Hotel</td>\n",
       "      <td>United Kingdom</td>\n",
       "    </tr>\n",
       "    <tr>\n",
       "      <th>329</th>\n",
       "      <td>329</td>\n",
       "      <td>1107</td>\n",
       "      <td>6.785095</td>\n",
       "      <td>7.185166</td>\n",
       "      <td>Henry VIII</td>\n",
       "      <td>United Kingdom</td>\n",
       "    </tr>\n",
       "  </tbody>\n",
       "</table>\n",
       "</div>"
      ],
      "text/plain": [
       "     hotel_id  count      mean  promedio_bayesiano  \\\n",
       "186       186   4789  6.826644            6.937010   \n",
       "707       707    920  6.442065            6.994861   \n",
       "593       593    953  6.554355            7.063240   \n",
       "374       374   1273  6.736685            7.106042   \n",
       "329       329   1107  6.785095            7.185166   \n",
       "\n",
       "                                     Hotel_Name   hotel_country  \n",
       "186  Britannia International Hotel Canary Wharf  United Kingdom  \n",
       "707                             Hotel Cavendish  United Kingdom  \n",
       "593                             Commodore Hotel  United Kingdom  \n",
       "374                     Bloomsbury Palace Hotel  United Kingdom  \n",
       "329                                  Henry VIII  United Kingdom  "
      ]
     },
     "execution_count": 109,
     "metadata": {},
     "output_type": "execute_result"
    }
   ],
   "source": [
    "hotel_stats.sort_values('promedio_bayesiano', ascending=True).head()"
   ]
  },
  {
   "cell_type": "code",
   "execution_count": 117,
   "metadata": {},
   "outputs": [
    {
     "data": {
      "text/plain": [
       "5"
      ]
     },
     "execution_count": 117,
     "metadata": {},
     "output_type": "execute_result"
    }
   ],
   "source": [
    "hotel_statsX = hotel_stats.sort_values('promedio_bayesiano', ascending=False).head().copy()\n",
    "hotel_statsX.insert(0, 'pos', range(1, len(hotel_statsX)+1))\n",
    "#hotel_stats.loc[hotel_stats.hotel_id == 186]\n",
    "len(hotel_statsX)"
   ]
  },
  {
   "cell_type": "markdown",
   "metadata": {},
   "source": [
    "#### Filtrado Colaborativo\n",
    "\n",
    "para generar recomendaciones. Los datos deben ser homogéneos, implicando que usuarios similares les interesan las mismas cosas. \n",
    "\n",
    "Primer paso: transformar los datos en una matriz usuario-item (user-item matrix), donde las filas representan a los usuarios y las columnas represntan a los items para comparar. NO se requiere información sobre los usuarios o los items para generar las recomendaciones"
   ]
  },
  {
   "cell_type": "code",
   "execution_count": 124,
   "metadata": {},
   "outputs": [],
   "source": [
    "from scipy.sparse import csr_matrix\n",
    "\n",
    "def create_X(df):\n",
    "    \"\"\"\n",
    "    Genera una matriz dispersa a partir del dataframe de ratings\n",
    "\n",
    "    Argumentos:\n",
    "        df: dataframe en pandas\n",
    "\n",
    "    Regresa:\n",
    "        X: matriz dispersa\n",
    "        mapeo_usuario: dict que mapea el id del usuario con los indices del usuario\n",
    "        mapeo_inverso_usuario: dict que mapea los indices del usuario con los id's del usuario\n",
    "        mapeo_hotel: dict que mapea los id's de las peliculas con los indices de las peliculas\n",
    "        mapeo_inverso_hotel: dict que mapea los indices de las peliculas con los id's de las peliculas\n",
    "    \"\"\"\n",
    "    N = df['user_id'].nunique()\n",
    "    M = df['hotel_id'].nunique()\n",
    "\n",
    "    mapeo_usuario = dict(zip(np.unique(df[\"user_id\"]), list(range(N))))\n",
    "    mapeo_hotel = dict(zip(np.unique(df[\"hotel_id\"]), list(range(M))))\n",
    "\n",
    "    mapeo_inverso_usuario = dict(zip(list(range(N)), np.unique(df[\"user_id\"])))\n",
    "    mapeo_inverso_hotel = dict(zip(list(range(M)), np.unique(df[\"hotel_id\"])))\n",
    "\n",
    "    user_index = [mapeo_usuario[i] for i in df['user_id']]\n",
    "    hotel_index = [mapeo_hotel[i] for i in df['hotel_id']]\n",
    "\n",
    "    X = csr_matrix((df[\"Reviewer_Score\"], (hotel_index, user_index)), shape=(M, N))\n",
    "\n",
    "    return X, mapeo_usuario, mapeo_hotel, mapeo_inverso_usuario, mapeo_inverso_hotel"
   ]
  },
  {
   "cell_type": "code",
   "execution_count": 128,
   "metadata": {},
   "outputs": [],
   "source": [
    "X, user_mapper, hotel_mapper, user_inv_mapper, hotel_inv_mapper = create_X(ratings)"
   ]
  },
  {
   "cell_type": "code",
   "execution_count": 129,
   "metadata": {},
   "outputs": [
    {
     "name": "stdout",
     "output_type": "stream",
     "text": [
      "Dispersion de la Matriz: 0.15%\n"
     ]
    }
   ],
   "source": [
    "sparsity = X.count_nonzero()/(X.shape[0]*X.shape[1])\n",
    "\n",
    "print(f\"Dispersion de la Matriz: {round(sparsity*100,2)}%\")"
   ]
  },
  {
   "cell_type": "markdown",
   "metadata": {},
   "source": [
    "la dispesión no debe ser menor a 0.5% para obtener resultados aceptables. En este caso se tiene una dispersión del 0.15%, indicando que sólo esta cantidad de las celdas de la matriz usuario-item tienen ratings."
   ]
  },
  {
   "cell_type": "code",
   "execution_count": 127,
   "metadata": {},
   "outputs": [],
   "source": [
    "from scipy.sparse import save_npz\n",
    "# guardar la matriz\n",
    "save_npz('DataBases/matriz_usuario_item_eu.npz', X)"
   ]
  },
  {
   "cell_type": "markdown",
   "metadata": {},
   "source": [
    "### KNN (K-Nearest Neighbours)\n",
    "\n",
    "kNN hace uso de metricas de distancias tales como:\n",
    "\n",
    "1. Similaridad Coseno (Cosine similarity)\n",
    "2. Distancia Euclidiana (Euclidean distance)\n",
    "3. Distancia Manhattan (Manhattan distance)\n",
    "4. Correlacion de Pearson (Pearson correlation )\n"
   ]
  },
  {
   "cell_type": "code",
   "execution_count": 130,
   "metadata": {},
   "outputs": [],
   "source": [
    "from sklearn.neighbors import NearestNeighbors\n",
    "\n",
    "def encuentra_hoteles_parecidos(hotel_id, X, k, metric='cosine', show_distance=False):\n",
    "    \"\"\"\n",
    "    Encuentra los k-vecinos para un hotel dado (a partir de su id)\n",
    "\n",
    "    Argumentos:\n",
    "        hotel_id: id del hotel en cuestion\n",
    "        X: matriz de utilidad usuario-item\n",
    "        k: numero de hoteles similares a encontrar\n",
    "        metric: metrica a utilizar para los calculos de kNN\n",
    "\n",
    "    Devuelve:\n",
    "        lista de k ID's de hoteles similares\n",
    "    \"\"\"\n",
    "    neighbour_ids = []\n",
    "\n",
    "    hotel_ind = hotel_mapper[hotel_id]\n",
    "    hotel_vec = X[hotel_ind]\n",
    "    k+=1\n",
    "    kNN = NearestNeighbors(n_neighbors=k, algorithm=\"brute\", metric=metric)\n",
    "    kNN.fit(X)\n",
    "    if isinstance(hotel_vec, (np.ndarray)):\n",
    "        hotel_vec = hotel_vec.reshape(1,-1)\n",
    "    neighbour = kNN.kneighbors(hotel_vec, return_distance=show_distance)\n",
    "    for i in range(0,k):\n",
    "        n = neighbour.item(i)\n",
    "        neighbour_ids.append(hotel_inv_mapper[n])\n",
    "    neighbour_ids.pop(0)\n",
    "    return neighbour_ids"
   ]
  },
  {
   "cell_type": "code",
   "execution_count": 224,
   "metadata": {},
   "outputs": [
    {
     "name": "stdout",
     "output_type": "stream",
     "text": [
      "4789 reseñas provenientes de 93 países en el sub cojunto.\n"
     ]
    },
    {
     "data": {
      "image/png": "[encoded data removed]",
      "text/plain": [
       "<Figure size 720x360 with 1 Axes>"
      ]
     },
     "metadata": {},
     "output_type": "display_data"
    }
   ],
   "source": [
    "# hotel 186 (peor rankeado)\n",
    "# -------------------------\n",
    "\n",
    "ratings_subset = ratings[ratings['hotel_id'] == 186]\n",
    "\n",
    "contador_paises = Counter(pais for pais in ratings_subset['Reviewer_Nationality'])\n",
    "print(f\"{len(ratings_subset)} reseñas provenientes de {len(contador_paises)} países en el sub cojunto.\")\n",
    "\n",
    "nac_counts_df = pd.DataFrame([contador_paises]).T.reset_index()\n",
    "\n",
    "nac_counts_df.columns = ['Reviewer_Nationality', 'count']\n",
    "nac_counts_df = nac_counts_df.sort_values(by='count', ascending=False)\n",
    "\n",
    "plt.figure(figsize=(10, 5))\n",
    "sns.barplot(x='Reviewer_Nationality', y='count', data=nac_counts_df, palette='rocket')\n",
    "plt.xticks(rotation=90)\n",
    "plt.show()"
   ]
  },
  {
   "cell_type": "markdown",
   "metadata": {},
   "source": [
    "Utilizando la métrica del Coseno (por defecto)"
   ]
  },
  {
   "cell_type": "code",
   "execution_count": 226,
   "metadata": {},
   "outputs": [
    {
     "name": "stdout",
     "output_type": "stream",
     "text": [
      "Porque the hospedaste en el Hotel 'Hotel Esther a' en Netherlands,\n",
      "Te pueden interesar los siguientes Hoteles:\n",
      "\t* (1480) Park Plaza Westminster Bridge London en United Kingdom\n",
      "\t        [reseña promedio: 8.65]\n",
      "\t* (337) Park Plaza Victoria London en United Kingdom\n",
      "\t        [reseña promedio: 8.55]\n",
      "\t* (1009) Room Mate Aitana en Netherlands\n",
      "\t        [reseña promedio: 8.9]\n",
      "\t* (127) The Chamberlain en United Kingdom\n",
      "\t        [reseña promedio: 9.04]\n",
      "\t* (524) citizenM Tower of London en United Kingdom\n",
      "\t        [reseña promedio: 9.14]\n"
     ]
    }
   ],
   "source": [
    "nombre_hoteles = dict(zip(hotels['hotel_id'], hotels['Hotel_Name']))\n",
    "\n",
    "hotel_id = 1290 # tercer mejor rankeado\n",
    "\n",
    "ids_parecidos = encuentra_hoteles_parecidos(hotel_id, X, k=5)\n",
    "hotel_nombre = nombre_hoteles[hotel_id]\n",
    "hotel_pais = hotels.loc[hotels['Hotel_Name'] == hotel_nombre].hotel_country.values[0]\n",
    "\n",
    "print(f\"Porque the hospedaste en el Hotel '{hotel_nombre}' en {hotel_pais},\")\n",
    "print(f\"Te pueden interesar los siguientes Hoteles:\")\n",
    "for i in ids_parecidos:\n",
    "    print(f\"\\t* ({i}) {nombre_hoteles[i]} en {hotels.loc[hotels['Hotel_Name'] == nombre_hoteles[i]].hotel_country.values[0]}\")\n",
    "    print(f\"\\t        [reseña promedio: {round(ratings[ratings['hotel_id'] == i]['Reviewer_Score'].mean(), 2)}]\")"
   ]
  },
  {
   "cell_type": "markdown",
   "metadata": {},
   "source": [
    "Utilizando la métrica Euclideana:"
   ]
  },
  {
   "cell_type": "code",
   "execution_count": 227,
   "metadata": {},
   "outputs": [
    {
     "name": "stdout",
     "output_type": "stream",
     "text": [
      "Porque the hospedaste en el Hotel 'Hotel Esther a' en Netherlands,\n",
      "Te pueden interesar los siguientes Hoteles:\n",
      "\t* (1018) Hotel Gallitzinberg en Austria\n",
      "\t        [reseña promedio: 7.88]\n",
      "\t* (1402) Ibis Styles Milano Palmanova en Italy\n",
      "\t        [reseña promedio: 6.38]\n",
      "\t* (5) Kube Hotel Ice Bar en France\n",
      "\t        [reseña promedio: 5.85]\n",
      "\t* (122) Mercure Paris Porte d Orleans en France\n",
      "\t        [reseña promedio: 8.18]\n",
      "\t* (1382) Hotel Wagner en Italy\n",
      "\t        [reseña promedio: 8.43]\n"
     ]
    }
   ],
   "source": [
    "nombre_hoteles = dict(zip(hotels['hotel_id'], hotels['Hotel_Name']))\n",
    "\n",
    "hotel_id = 1290 # tercer mejor rankeado\n",
    "\n",
    "ids_parecidos = encuentra_hoteles_parecidos(hotel_id, X, k=5, metric=\"euclidean\")\n",
    "hotel_nombre = nombre_hoteles[hotel_id]\n",
    "hotel_pais = hotels.loc[hotels['Hotel_Name'] == hotel_nombre].hotel_country.values[0]\n",
    "\n",
    "print(f\"Porque the hospedaste en el Hotel '{hotel_nombre}' en {hotel_pais},\")\n",
    "print(f\"Te pueden interesar los siguientes Hoteles:\")\n",
    "for i in ids_parecidos:\n",
    "    print(f\"\\t* ({i}) {nombre_hoteles[i]} en {hotels.loc[hotels['Hotel_Name'] == nombre_hoteles[i]].hotel_country.values[0]}\")\n",
    "    print(f\"\\t        [reseña promedio: {round(ratings[ratings['hotel_id'] == i]['Reviewer_Score'].mean(), 2)}]\")"
   ]
  },
  {
   "cell_type": "markdown",
   "metadata": {},
   "source": [
    "Utilizando la métrica de Manhattan"
   ]
  },
  {
   "cell_type": "code",
   "execution_count": 228,
   "metadata": {},
   "outputs": [
    {
     "name": "stdout",
     "output_type": "stream",
     "text": [
      "Porque the hospedaste en el Hotel 'Hotel Esther a' en Netherlands,\n",
      "Te pueden interesar los siguientes Hoteles:\n",
      "\t* (1018) Hotel Gallitzinberg en Austria\n",
      "\t        [reseña promedio: 7.88]\n",
      "\t* (1402) Ibis Styles Milano Palmanova en Italy\n",
      "\t        [reseña promedio: 6.38]\n",
      "\t* (122) Mercure Paris Porte d Orleans en France\n",
      "\t        [reseña promedio: 8.18]\n",
      "\t* (1382) Hotel Wagner en Italy\n",
      "\t        [reseña promedio: 8.43]\n",
      "\t* (946) Hotel Eitlj rg en Austria\n",
      "\t        [reseña promedio: 7.75]\n"
     ]
    }
   ],
   "source": [
    "nombre_hoteles = dict(zip(hotels['hotel_id'], hotels['Hotel_Name']))\n",
    "\n",
    "hotel_id = 1290 # peor rankeado\n",
    "\n",
    "ids_parecidos = encuentra_hoteles_parecidos(hotel_id, X, k=5, metric=\"manhattan\")\n",
    "hotel_nombre = nombre_hoteles[hotel_id]\n",
    "hotel_pais = hotels.loc[hotels['Hotel_Name'] == hotel_nombre].hotel_country.values[0]\n",
    "\n",
    "print(f\"Porque the hospedaste en el Hotel '{hotel_nombre}' en {hotel_pais},\")\n",
    "print(f\"Te pueden interesar los siguientes Hoteles:\")\n",
    "for i in ids_parecidos:\n",
    "    print(f\"\\t* ({i}) {nombre_hoteles[i]} en {hotels.loc[hotels['Hotel_Name'] == nombre_hoteles[i]].hotel_country.values[0]}\")\n",
    "    print(f\"\\t        [reseña promedio: {round(ratings[ratings['hotel_id'] == i]['Reviewer_Score'].mean(), 2)}]\")"
   ]
  },
  {
   "cell_type": "markdown",
   "metadata": {},
   "source": [
    "KNN utilizando Nacionalidad de los usuarios\n"
   ]
  },
  {
   "cell_type": "code",
   "execution_count": 210,
   "metadata": {},
   "outputs": [],
   "source": [
    "from scipy.sparse import csr_matrix\n",
    "\n",
    "def create_X_nac(df):\n",
    "    \"\"\"\n",
    "    Genera una matriz dispersa a partir del dataframe de ratings\n",
    "\n",
    "    Argumentos:\n",
    "        df: dataframe en pandas\n",
    "\n",
    "    Regresa:\n",
    "        X: matriz dispersa\n",
    "        mapeo_usuario: dict que mapea el id del usuario con los indices del usuario\n",
    "        mapeo_inverso_usuario: dict que mapea los indices del usuario con los id's del usuario\n",
    "        mapeo_hotel: dict que mapea los id's de las peliculas con los indices de las peliculas\n",
    "        mapeo_inverso_hotel: dict que mapea los indices de las peliculas con los id's de las peliculas\n",
    "    \"\"\"\n",
    "    N = df['Reviewer_Nationality'].nunique()\n",
    "    M = df['hotel_id'].nunique()\n",
    "\n",
    "    mapeo_usuario = dict(zip(np.unique(df[\"Reviewer_Nationality\"]), list(range(N))))\n",
    "    mapeo_hotel = dict(zip(np.unique(df[\"hotel_id\"]), list(range(M))))\n",
    "\n",
    "    mapeo_inverso_usuario = dict(zip(list(range(N)), np.unique(df[\"Reviewer_Nationality\"])))\n",
    "    mapeo_inverso_hotel = dict(zip(list(range(M)), np.unique(df[\"hotel_id\"])))\n",
    "\n",
    "    user_index = [mapeo_usuario[i] for i in df['Reviewer_Nationality']]\n",
    "    hotel_index = [mapeo_hotel[i] for i in df['hotel_id']]\n",
    "\n",
    "    X = csr_matrix((df[\"Reviewer_Score\"], (hotel_index, user_index)), shape=(M, N))\n",
    "\n",
    "    return X, mapeo_usuario, mapeo_hotel, mapeo_inverso_usuario, mapeo_inverso_hotel"
   ]
  },
  {
   "cell_type": "code",
   "execution_count": 211,
   "metadata": {},
   "outputs": [],
   "source": [
    "X_nac, user_mapper, hotel_mapper, user_inv_mapper, hotel_inv_mapper = create_X_nac(ratings)"
   ]
  },
  {
   "cell_type": "code",
   "execution_count": 212,
   "metadata": {},
   "outputs": [
    {
     "name": "stdout",
     "output_type": "stream",
     "text": [
      "Dispersion de la Matriz: 19.22%\n"
     ]
    }
   ],
   "source": [
    "sparsity = X_nac.count_nonzero()/(X_nac.shape[0]*X_nac.shape[1])\n",
    "\n",
    "print(f\"Dispersion de la Matriz: {round(sparsity*100,2)}%\")"
   ]
  },
  {
   "cell_type": "code",
   "execution_count": 214,
   "metadata": {},
   "outputs": [
    {
     "name": "stdout",
     "output_type": "stream",
     "text": [
      "Porque the hospedaste en el Hotel 'Britannia International Hotel Canary Wharf' en United Kingdom,\n",
      "Te pueden interesar los siguientes Hoteles:\n",
      "\t* (486) Strand Palace Hotel en United Kingdom\n",
      "\t        [reseña promedio: 8.13]\n",
      "\t* (689) DoubleTree by Hilton Hotel London Tower of London en United Kingdom\n",
      "\t        [reseña promedio: 8.66]\n",
      "\t* (25) Intercontinental London The O2 en United Kingdom\n",
      "\t        [reseña promedio: 9.45]\n",
      "\t* (1480) Park Plaza Westminster Bridge London en United Kingdom\n",
      "\t        [reseña promedio: 8.65]\n",
      "\t* (1271) Copthorne Tara Hotel London Kensington en United Kingdom\n",
      "\t        [reseña promedio: 8.09]\n"
     ]
    }
   ],
   "source": [
    "nombre_hoteles = dict(zip(hotels['hotel_id'], hotels['Hotel_Name']))\n",
    "\n",
    "hotel_id = 186 # peor ranqueado\n",
    "\n",
    "ids_parecidos = encuentra_hoteles_parecidos(hotel_id, X_nac, k=5, metric=\"euclidean\")\n",
    "hotel_nombre = nombre_hoteles[hotel_id]\n",
    "hotel_pais = hotels.loc[hotels['Hotel_Name'] == hotel_nombre].hotel_country.values[0]\n",
    "\n",
    "print(f\"Porque the hospedaste en el Hotel '{hotel_nombre}' en {hotel_pais},\")\n",
    "print(f\"Te pueden interesar los siguientes Hoteles:\")\n",
    "for i in ids_parecidos:\n",
    "    print(f\"\\t* ({i}) {nombre_hoteles[i]} en {hotels.loc[hotels['Hotel_Name'] == nombre_hoteles[i]].hotel_country.values[0]}\")\n",
    "    print(f\"\\t        [reseña promedio: {round(ratings[ratings['hotel_id'] == i]['Reviewer_Score'].mean(), 2)}]\")"
   ]
  },
  {
   "cell_type": "code",
   "execution_count": 225,
   "metadata": {},
   "outputs": [
    {
     "name": "stdout",
     "output_type": "stream",
     "text": [
      "1837 reseñas provenientes de 76 países en el sub cojunto.\n"
     ]
    },
    {
     "data": {
      "image/png": "[encoded data removed]",
      "text/plain": [
       "<Figure size 720x360 with 1 Axes>"
      ]
     },
     "metadata": {},
     "output_type": "display_data"
    }
   ],
   "source": [
    "# hotel 1290 (tercer mejor rankeado)\n",
    "# ----------------------------------\n",
    "\n",
    "ratings_subset = ratings[ratings['hotel_id'] == 1290]\n",
    "\n",
    "contador_paises = Counter(pais for pais in ratings_subset['Reviewer_Nationality'])\n",
    "print(f\"{len(ratings_subset)} reseñas provenientes de {len(contador_paises)} países en el sub cojunto.\")\n",
    "\n",
    "nac_counts_df = pd.DataFrame([contador_paises]).T.reset_index()\n",
    "\n",
    "nac_counts_df.columns = ['Reviewer_Nationality', 'count']\n",
    "nac_counts_df = nac_counts_df.sort_values(by='count', ascending=False)\n",
    "\n",
    "plt.figure(figsize=(10, 5))\n",
    "sns.barplot(x='Reviewer_Nationality', y='count', data=nac_counts_df, palette='rocket')\n",
    "plt.xticks(rotation=90)\n",
    "plt.show()"
   ]
  },
  {
   "cell_type": "markdown",
   "metadata": {},
   "source": [
    "Euclidean:"
   ]
  },
  {
   "cell_type": "code",
   "execution_count": 216,
   "metadata": {},
   "outputs": [
    {
     "name": "stdout",
     "output_type": "stream",
     "text": [
      "Por que the hospedaste en el Hotel 'Hotel Esther a' en Netherlands [reseña promedio: 9.27],\n",
      "Te pueden interesar los siguientes Hoteles:\n",
      "\t* (363) Park Grand Paddington Court en United Kingdom\n",
      "\t        [reseña promedio: 8.19]\n",
      "\t* (908) Park Plaza Victoria Amsterdam en Netherlands\n",
      "\t        [reseña promedio: 8.13]\n",
      "\t* (1099) Golden Tulip Amsterdam West en Netherlands\n",
      "\t        [reseña promedio: 8.55]\n",
      "\t* (61) The Grosvenor en United Kingdom\n",
      "\t        [reseña promedio: 8.35]\n",
      "\t* (528) St James Court A Taj Hotel London en United Kingdom\n",
      "\t        [reseña promedio: 8.72]\n"
     ]
    }
   ],
   "source": [
    "nombre_hoteles = dict(zip(hotels['hotel_id'], hotels['Hotel_Name']))\n",
    "\n",
    "hotel_id = 1290 # tercer mejor rankeado\n",
    "\n",
    "ids_parecidos = encuentra_hoteles_parecidos(hotel_id, X_nac, k=5, metric=\"euclidean\")\n",
    "hotel_nombre = nombre_hoteles[hotel_id]\n",
    "hotel_pais = hotels.loc[hotels['Hotel_Name'] == hotel_nombre].hotel_country.values[0]\n",
    "\n",
    "print(f\"Porque the hospedaste en el Hotel '{hotel_nombre}' en {hotel_pais} [reseña promedio: {round(ratings[ratings['hotel_id'] == hotel_id]['Reviewer_Score'].mean(), 2)}],\")\n",
    "print(f\"Te pueden interesar los siguientes Hoteles:\")\n",
    "for i in ids_parecidos:\n",
    "    print(f\"\\t* ({i}) {nombre_hoteles[i]} en {hotels.loc[hotels['Hotel_Name'] == nombre_hoteles[i]].hotel_country.values[0]}\")\n",
    "    print(f\"\\t        [reseña promedio: {round(ratings[ratings['hotel_id'] == i]['Reviewer_Score'].mean(), 2)}]\")"
   ]
  },
  {
   "cell_type": "markdown",
   "metadata": {},
   "source": [
    "Manhattan:"
   ]
  },
  {
   "cell_type": "code",
   "execution_count": 218,
   "metadata": {},
   "outputs": [
    {
     "name": "stdout",
     "output_type": "stream",
     "text": [
      "Porque the hospedaste en el Hotel 'Hotel Esther a' en Netherlands [reseña promedio: 9.27],\n",
      "Te pueden interesar los siguientes Hoteles:\n",
      "\t* (908) Park Plaza Victoria Amsterdam en Netherlands\n",
      "\t        [reseña promedio: 8.13]\n",
      "\t* (1099) Golden Tulip Amsterdam West en Netherlands\n",
      "\t        [reseña promedio: 8.55]\n",
      "\t* (674) Radisson Blu Edwardian Vanderbilt en United Kingdom\n",
      "\t        [reseña promedio: 8.17]\n",
      "\t* (1304) Ramada Apollo Amsterdam Centre en Netherlands\n",
      "\t        [reseña promedio: 8.3]\n",
      "\t* (61) The Grosvenor en United Kingdom\n",
      "\t        [reseña promedio: 8.35]\n"
     ]
    }
   ],
   "source": [
    "nombre_hoteles = dict(zip(hotels['hotel_id'], hotels['Hotel_Name']))\n",
    "\n",
    "hotel_id = 1290 # tercer mejor rankeado\n",
    "\n",
    "ids_parecidos = encuentra_hoteles_parecidos(hotel_id, X_nac, k=5, metric=\"manhattan\")\n",
    "hotel_nombre = nombre_hoteles[hotel_id]\n",
    "hotel_pais = hotels.loc[hotels['Hotel_Name'] == hotel_nombre].hotel_country.values[0]\n",
    "\n",
    "print(f\"Porque the hospedaste en el Hotel '{hotel_nombre}' en {hotel_pais} [reseña promedio: {round(ratings[ratings['hotel_id'] == hotel_id]['Reviewer_Score'].mean(), 2)}],\")\n",
    "print(f\"Te pueden interesar los siguientes Hoteles:\")\n",
    "for i in ids_parecidos:\n",
    "    print(f\"\\t* ({i}) {nombre_hoteles[i]} en {hotels.loc[hotels['Hotel_Name'] == nombre_hoteles[i]].hotel_country.values[0]}\")\n",
    "    print(f\"\\t        [reseña promedio: {round(ratings[ratings['hotel_id'] == i]['Reviewer_Score'].mean(), 2)}]\")"
   ]
  }
 ],
 "metadata": {
  "kernelspec": {
   "display_name": "base",
   "language": "python",
   "name": "python3"
  },
  "language_info": {
   "codemirror_mode": {
    "name": "ipython",
    "version": 3
   },
   "file_extension": ".py",
   "mimetype": "text/x-python",
   "name": "python",
   "nbconvert_exporter": "python",
   "pygments_lexer": "ipython3",
   "version": "3.7.undefined"
  }
 },
 "nbformat": 4,
 "nbformat_minor": 2
}
